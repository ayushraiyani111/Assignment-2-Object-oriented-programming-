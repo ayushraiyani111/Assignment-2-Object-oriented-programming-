{
 "cells": [
  {
   "cell_type": "code",
   "execution_count": 30,
   "id": "95165ccb-35fb-4b3f-9103-4097ebf826da",
   "metadata": {},
   "outputs": [],
   "source": [
    "class Flat:\n",
    "    def Room1(self):\n",
    "        print(\"I'm in room 1\")\n",
    "class Flat2(Flat):\n",
    "    def Room2(self):\n",
    "        print(\"I'm in room 2\")\n",
    "    "
   ]
  },
  {
   "cell_type": "code",
   "execution_count": 34,
   "id": "4d4a05d0-ce4e-4ade-8b9c-5b276da96904",
   "metadata": {},
   "outputs": [],
   "source": [
    "i = Flat2()"
   ]
  },
  {
   "cell_type": "code",
   "execution_count": 40,
   "id": "fef45bf5-016a-412c-a7fb-cd08dc9e052a",
   "metadata": {},
   "outputs": [
    {
     "name": "stdout",
     "output_type": "stream",
     "text": [
      "I'm in room 1\n"
     ]
    }
   ],
   "source": [
    "i.Room1()"
   ]
  },
  {
   "cell_type": "code",
   "execution_count": 44,
   "id": "7e59750b-ccb3-488e-b96d-54f1d755d787",
   "metadata": {},
   "outputs": [],
   "source": [
    "import abc\n",
    "class Vehicle:\n",
    "\n",
    "    @abc.abstractmethod\n",
    "    def Vehicle_details(self):\n",
    "        pass\n",
    "\n",
    "    @abc.abstractmethod\n",
    "    def Owner_details(self):\n",
    "        pass\n",
    "\n",
    "    @abc.abstractmethod\n",
    "    def Service_details(self):\n",
    "        pass"
   ]
  },
  {
   "cell_type": "code",
   "execution_count": 54,
   "id": "c260acd5-3cf6-447f-90d8-e5be862b9627",
   "metadata": {},
   "outputs": [],
   "source": [
    "class Car(Vehicle):\n",
    "    def Vehicle_details(self):\n",
    "        return \"Car details will be shown here\"\n",
    "\n",
    "    def Service_details(self):\n",
    "        return \"Car Service details will be shown here\""
   ]
  },
  {
   "cell_type": "code",
   "execution_count": 56,
   "id": "8b18089f-7487-41e7-977d-4ebedc672ca1",
   "metadata": {},
   "outputs": [],
   "source": [
    "class Truck(Vehicle):\n",
    "    def Vehicle_details(self):\n",
    "        return \"Truck details will be shown here\"\n",
    "\n",
    "    def Service_details(self):\n",
    "        return \"Truck Service details will be shown here\""
   ]
  },
  {
   "cell_type": "code",
   "execution_count": 58,
   "id": "e65960ed-ae0d-45bb-a8da-69d8fbd9e92e",
   "metadata": {},
   "outputs": [],
   "source": [
    "cs = Car()"
   ]
  },
  {
   "cell_type": "code",
   "execution_count": 60,
   "id": "3064e426-3452-45b8-aac0-506f506cd24c",
   "metadata": {},
   "outputs": [
    {
     "data": {
      "text/plain": [
       "'Car Service details will be shown here'"
      ]
     },
     "execution_count": 60,
     "metadata": {},
     "output_type": "execute_result"
    }
   ],
   "source": [
    "cs.Service_details()"
   ]
  },
  {
   "cell_type": "code",
   "execution_count": 62,
   "id": "3da5eeb9-1add-400c-b9ea-1931ca6e929c",
   "metadata": {},
   "outputs": [],
   "source": [
    "ts = Truck()"
   ]
  },
  {
   "cell_type": "code",
   "execution_count": 64,
   "id": "df8f92de-2cdf-48df-a682-d54b8dca7eb5",
   "metadata": {},
   "outputs": [
    {
     "data": {
      "text/plain": [
       "'Truck details will be shown here'"
      ]
     },
     "execution_count": 64,
     "metadata": {},
     "output_type": "execute_result"
    }
   ],
   "source": [
    "ts.Vehicle_details()"
   ]
  },
  {
   "cell_type": "code",
   "execution_count": null,
   "id": "85135828-5c50-46e7-b60b-77d20f03645f",
   "metadata": {},
   "outputs": [],
   "source": []
  }
 ],
 "metadata": {
  "kernelspec": {
   "display_name": "Python 3 (ipykernel)",
   "language": "python",
   "name": "python3"
  },
  "language_info": {
   "codemirror_mode": {
    "name": "ipython",
    "version": 3
   },
   "file_extension": ".py",
   "mimetype": "text/x-python",
   "name": "python",
   "nbconvert_exporter": "python",
   "pygments_lexer": "ipython3",
   "version": "3.12.7"
  }
 },
 "nbformat": 4,
 "nbformat_minor": 5
}
