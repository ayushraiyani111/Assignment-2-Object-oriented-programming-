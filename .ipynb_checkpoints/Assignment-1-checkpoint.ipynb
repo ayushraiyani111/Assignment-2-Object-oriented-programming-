{
 "cells": [
  {
   "cell_type": "markdown",
   "id": "d5076eda-2219-4a2d-a644-badbd2bd8797",
   "metadata": {},
   "source": [
    "<b>[Q-1] Write a code to reverse a string"
   ]
  },
  {
   "cell_type": "code",
   "execution_count": 17,
   "id": "ddbad9b2-33bf-4a4a-b3d5-597f26bfa8a8",
   "metadata": {},
   "outputs": [
    {
     "name": "stdout",
     "output_type": "stream",
     "text": [
      "!sllikS ,WP\n"
     ]
    }
   ],
   "source": [
    "# Input string\n",
    "input_string = \"PW, Skills!\"\n",
    "\n",
    "# Reverse the string using slicing\n",
    "reversed_string = input_string[::-1]\n",
    "\n",
    "# Print the reversed string\n",
    "print(reversed_string)"
   ]
  },
  {
   "cell_type": "markdown",
   "id": "a6380582-b47b-4c65-af2f-6f28fa522873",
   "metadata": {},
   "source": [
    "<b>[Q-2] Write a code to count the number of vowels in a string"
   ]
  },
  {
   "cell_type": "code",
   "execution_count": null,
   "id": "b4beef1c-a1a1-4d40-bc07-0f50197c3f4f",
   "metadata": {},
   "outputs": [],
   "source": [
    "# Input string\n",
    "input_string = \"My name is Ayush\"\n",
    "\n",
    "# Define the vowels\n",
    "vowels = \"aeiouAEIOU\"\n",
    "\n",
    "# Count the number of vowels in the input string\n",
    "count = sum(1 for char in input_string if char in vowels)\n",
    "\n",
    "# Print the count of vowels\n",
    "print(count)"
   ]
  },
  {
   "cell_type": "markdown",
   "id": "91da0413-54dd-4731-bbcb-edbd73d79b07",
   "metadata": {},
   "source": [
    "<b>[Q-3] Write a code to check if a given string is a palindrome or not"
   ]
  },
  {
   "cell_type": "code",
   "execution_count": 21,
   "id": "5f3ca679-8012-477a-8e5f-a1f11dcda577",
   "metadata": {},
   "outputs": [
    {
     "name": "stdout",
     "output_type": "stream",
     "text": [
      "True\n"
     ]
    }
   ],
   "source": [
    "# Input string\n",
    "input_string = \"A man a plan a canal Panama\"\n",
    "\n",
    "# Remove spaces and convert to lowercase for uniformity\n",
    "cleaned_string = ''.join(input_string.split()).lower()\n",
    "\n",
    "# Check if the cleaned string is equal to its reverse\n",
    "is_palindrome = cleaned_string == cleaned_string[::-1]\n",
    "\n",
    "# Print the result\n",
    "print(is_palindrome)"
   ]
  },
  {
   "cell_type": "markdown",
   "id": "ecf7a66a-9643-4e0a-9d34-2154a73092c9",
   "metadata": {},
   "source": [
    "<b>[Q-4] Write a code to check if two given strings are anagrams of each other"
   ]
  },
  {
   "cell_type": "code",
   "execution_count": 27,
   "id": "d3bfb072-03b2-4f12-9cbc-69cdb8182844",
   "metadata": {},
   "outputs": [
    {
     "name": "stdout",
     "output_type": "stream",
     "text": [
      "Are 'listen' and 'silent' anagrams? True\n"
     ]
    }
   ],
   "source": [
    "# Input strings\n",
    "string1 = \"listen\"  # First string\n",
    "string2 = \"silent\"  # Second string\n",
    "\n",
    "# Normalize the strings by removing spaces and converting to lowercase\n",
    "normalized_str1 = string1.replace(\" \", \"\").lower()\n",
    "normalized_str2 = string2.replace(\" \", \"\").lower()\n",
    "\n",
    "# Check if the sorted characters of both strings are the same\n",
    "are_anagrams = sorted(normalized_str1) == sorted(normalized_str2)\n",
    "\n",
    "# Output the result\n",
    "print(f\"Are '{string1}' and '{string2}' anagrams? {are_anagrams}\")"
   ]
  },
  {
   "cell_type": "markdown",
   "id": "988e2e3a-8add-4a1d-bc03-0e12afbd4926",
   "metadata": {},
   "source": [
    "<b>[Q-5] Write a code to find all occurrences of a given substring within another string"
   ]
  },
  {
   "cell_type": "code",
   "execution_count": 29,
   "id": "2eb95c63-2694-46fe-96b4-191a3322b169",
   "metadata": {},
   "outputs": [
    {
     "name": "stdout",
     "output_type": "stream",
     "text": [
      "Occurrences of 'test': [10, 28, 43]\n"
     ]
    }
   ],
   "source": [
    "# Input strings\n",
    "main_string = \"This is a test string. This test is only a test.\"\n",
    "substring = \"test\"  # Substring to find\n",
    "\n",
    "# Initialize a list to store the starting indices of occurrences\n",
    "occurrences = []\n",
    "start = 0  # Start searching from the beginning of the main string\n",
    "\n",
    "# Loop to find all occurrences of the substring\n",
    "while True:\n",
    "    # Find the index of the substring in the main string\n",
    "    start = main_string.find(substring, start)\n",
    "    \n",
    "    # If the substring is not found, break the loop\n",
    "    if start == -1:\n",
    "        break\n",
    "    \n",
    "    # Append the found index to the occurrences list\n",
    "    occurrences.append(start)\n",
    "    \n",
    "    # Move the start index forward for the next search\n",
    "    start += 1  \n",
    "\n",
    "# Output the result\n",
    "print(f\"Occurrences of '{substring}': {occurrences}\")"
   ]
  },
  {
   "cell_type": "markdown",
   "id": "a65408f1-c5f5-4a07-b461-2ad7330b8134",
   "metadata": {},
   "source": [
    "<b>[Q-6] Write a code to perform basic string compression using the counts of repeated characters"
   ]
  },
  {
   "cell_type": "code",
   "execution_count": 31,
   "id": "71965e36-0123-4fea-bca7-75613f70e5e8",
   "metadata": {},
   "outputs": [
    {
     "name": "stdout",
     "output_type": "stream",
     "text": [
      "Compressed string: a3b2c4d1c2d3e1\n"
     ]
    }
   ],
   "source": [
    "# Input string\n",
    "input_string = \"aaabbccccdccddde\"  # String to compress\n",
    "\n",
    "# Initialize an empty string to store the compressed result\n",
    "compressed = \"\"\n",
    "count = 1  # Initialize a count for repeated characters\n",
    "\n",
    "# Loop through the input string\n",
    "for i in range(1, len(input_string)):\n",
    "    # If the current character is the same as the previous one, increment the count\n",
    "    if input_string[i] == input_string[i - 1]:\n",
    "        count += 1\n",
    "    else:\n",
    "        # Append the previous character and its count to the compressed string\n",
    "        compressed += input_string[i - 1] + str(count)\n",
    "        count = 1  # Reset the count for the new character\n",
    "\n",
    "# Append the last character and its count\n",
    "compressed += input_string[-1] + str(count)\n",
    "\n",
    "# Output the result\n",
    "print(f\"Compressed string: {compressed}\")"
   ]
  },
  {
   "cell_type": "markdown",
   "id": "285b286c-1117-42d2-9f2f-0e15da7e50f1",
   "metadata": {},
   "source": [
    "<b>[Q-7] Write a code to determine if a string has all unique characters"
   ]
  },
  {
   "cell_type": "code",
   "execution_count": 33,
   "id": "b14a2a0e-2fa7-4adb-b17b-58b26b634049",
   "metadata": {},
   "outputs": [
    {
     "name": "stdout",
     "output_type": "stream",
     "text": [
      "Does 'abcdefg' have all unique characters? True\n"
     ]
    }
   ],
   "source": [
    "# Input string\n",
    "input_string = \"abcdefg\"  # String to check for uniqueness\n",
    "\n",
    "# Create a set to store characters\n",
    "char_set = set()\n",
    "\n",
    "# Loop through each character in the input string\n",
    "for char in input_string:\n",
    "    # If the character is already in the set, print the result and exit\n",
    "    if char in char_set:\n",
    "        print(f\"Does '{input_string}' have all unique characters? False\")\n",
    "        break\n",
    "    # Add the character to the set\n",
    "    char_set.add(char)\n",
    "\n",
    "# If no duplicates were found, print the result\n",
    "if len(char_set) == len(input_string):\n",
    "    print(f\"Does '{input_string}' have all unique characters? True\")"
   ]
  },
  {
   "cell_type": "markdown",
   "id": "a43b854c-956e-4ba8-ad28-9987a7c2f5c2",
   "metadata": {},
   "source": [
    "<b>[Q-8] Write a code to convert a given string to uppercase or lowercase"
   ]
  },
  {
   "cell_type": "code",
   "execution_count": 35,
   "id": "297dd5bf-ccf6-4353-9b0c-d924526548db",
   "metadata": {},
   "outputs": [
    {
     "name": "stdout",
     "output_type": "stream",
     "text": [
      "Uppercase: AYUSH RAIYANI\n",
      "Lowercase: ayush raiyani\n"
     ]
    }
   ],
   "source": [
    "# Input string\n",
    "input_string = \"Ayush Raiyani\"  # String to convert\n",
    "\n",
    "# Convert to uppercase\n",
    "upper_result = input_string.upper()  # Convert to uppercase\n",
    "print(f\"Uppercase: {upper_result}\")  # Output the uppercase result\n",
    "\n",
    "# Convert to lowercase\n",
    "lower_result = input_string.lower()  # Convert to lowercase\n",
    "print(f\"Lowercase: {lower_result}\")  # Output the lowercase result"
   ]
  },
  {
   "cell_type": "markdown",
   "id": "88d26eed-bfe4-47a7-be18-f14b012bb82a",
   "metadata": {},
   "source": [
    "<b>[Q-9] Write a code to count the number of words in a string"
   ]
  },
  {
   "cell_type": "code",
   "execution_count": 37,
   "id": "9a170584-628e-4164-b14c-f7b68903c452",
   "metadata": {},
   "outputs": [
    {
     "name": "stdout",
     "output_type": "stream",
     "text": [
      "Number of words: 6\n"
     ]
    }
   ],
   "source": [
    "# Input string\n",
    "input_string = \"I like to listen pop music\"  # String to count words in\n",
    "\n",
    "# Split the string into words using whitespace as the delimiter\n",
    "words = input_string.split()\n",
    "\n",
    "# Get the number of words\n",
    "word_count = len(words)\n",
    "\n",
    "# Output the result\n",
    "print(f\"Number of words: {word_count}\")"
   ]
  },
  {
   "cell_type": "markdown",
   "id": "882df36b-51a6-4c31-a299-4e90352a6fff",
   "metadata": {},
   "source": [
    "<b>[Q-10] Write a code to concatenate two strings without using the + operator"
   ]
  },
  {
   "cell_type": "code",
   "execution_count": 39,
   "id": "4e2a5b0c-cc49-4009-8c79-e966811a48a5",
   "metadata": {},
   "outputs": [
    {
     "name": "stdout",
     "output_type": "stream",
     "text": [
      "Concatenated string: Stranger Things\n"
     ]
    }
   ],
   "source": [
    "# Input strings\n",
    "string1 = \"Stranger \"  # First string\n",
    "string2 = \"Things\"  # Second string\n",
    "\n",
    "# Use the join method to concatenate the two strings\n",
    "result = ''.join([string1, string2])  # Join the strings in a list\n",
    "\n",
    "# Output the result\n",
    "print(f\"Concatenated string: {result}\")  # Output the result"
   ]
  },
  {
   "cell_type": "markdown",
   "id": "bb115694-d3c8-4e85-9b8c-d85ed08f97ea",
   "metadata": {},
   "source": [
    "<b>[Q-11] Write a code to remove all occurrences of a specific element from a list"
   ]
  },
  {
   "cell_type": "code",
   "execution_count": 41,
   "id": "1353fc0c-00f1-462d-a548-120b69870bc8",
   "metadata": {},
   "outputs": [
    {
     "name": "stdout",
     "output_type": "stream",
     "text": [
      "List after removing 2: [1, 3, 4, 5]\n"
     ]
    }
   ],
   "source": [
    "# Input list\n",
    "my_list = [1, 2, 3, 4, 2, 5, 2]  # List to modify\n",
    "element_to_remove = 2  # Element to remove\n",
    "\n",
    "# Use a list comprehension to create a new list without the specified element\n",
    "result = [item for item in my_list if item != element_to_remove]  # Filter out the element\n",
    "\n",
    "# Output the result\n",
    "print(f\"List after removing {element_to_remove}: {result}\")  # Output the result"
   ]
  },
  {
   "cell_type": "markdown",
   "id": "f68cb87a-6834-4c9f-9d01-46c2aff3b569",
   "metadata": {},
   "source": [
    "<b>[Q-12] Implement a code to find the second largest number in a given list of integers"
   ]
  },
  {
   "cell_type": "code",
   "execution_count": 43,
   "id": "ae585f68-bc63-42cc-9404-b0b310255ac4",
   "metadata": {},
   "outputs": [
    {
     "name": "stdout",
     "output_type": "stream",
     "text": [
      "The second largest number is: 4\n"
     ]
    }
   ],
   "source": [
    "# Input list of integers\n",
    "my_list = [5, 1, 3, 4, 2, 5]  # List of integers\n",
    "\n",
    "# Remove duplicates by converting the list to a set\n",
    "unique_numbers = set(my_list)\n",
    "\n",
    "# If there are less than 2 unique numbers, set result to None\n",
    "if len(unique_numbers) < 2:\n",
    "    result = None\n",
    "else:\n",
    "    # Convert the set back to a sorted list\n",
    "    sorted_numbers = sorted(unique_numbers)\n",
    "    \n",
    "    # Get the second largest number\n",
    "    result = sorted_numbers[-2]  # Second last element in the sorted list\n",
    "\n",
    "# Output the result\n",
    "print(f\"The second largest number is: {result}\")  # Output the result"
   ]
  },
  {
   "cell_type": "markdown",
   "id": "6a5e340f-cbd4-4721-9c1d-f88ab2334e80",
   "metadata": {},
   "source": [
    "<b>[Q-13] Create a code to count the occurrences of each element in a list and return a dictionary with elements as\n",
    "keys and their counts as values"
   ]
  },
  {
   "cell_type": "code",
   "execution_count": 45,
   "id": "ae240e18-43e0-4e7a-b092-e7fac9dd736e",
   "metadata": {},
   "outputs": [
    {
     "name": "stdout",
     "output_type": "stream",
     "text": [
      "Occurrences: {1: 2, 2: 2, 3: 3, 4: 1}\n"
     ]
    }
   ],
   "source": [
    "# Input list of elements\n",
    "my_list = [1, 2, 2, 3, 1, 4, 3, 3]  # List of elements\n",
    "\n",
    "# Initialize an empty dictionary to store counts\n",
    "counts = {}\n",
    "\n",
    "# Loop through each element in the list\n",
    "for element in my_list:\n",
    "    # If the element is already in the dictionary, increment its count\n",
    "    if element in counts:\n",
    "        counts[element] += 1\n",
    "    else:\n",
    "        # Otherwise, add the element to the dictionary with a count of 1\n",
    "        counts[element] = 1\n",
    "\n",
    "# Output the result\n",
    "print(f\"Occurrences: {counts}\")  # Output the result"
   ]
  },
  {
   "cell_type": "markdown",
   "id": "19c49e4c-6c52-4ed6-b956-4e4e749fbd1a",
   "metadata": {},
   "source": [
    "<b>[Q-14] Write a code to reverse a list in-place without using any built-in reverse functions"
   ]
  },
  {
   "cell_type": "code",
   "execution_count": 47,
   "id": "c1f8df54-4f48-4b9d-a60f-a68cc2249712",
   "metadata": {},
   "outputs": [
    {
     "name": "stdout",
     "output_type": "stream",
     "text": [
      "Reversed list: [5, 4, 3, 2, 1]\n"
     ]
    }
   ],
   "source": [
    "# Input list to reverse\n",
    "my_list = [1, 2, 3, 4, 5]  # List to reverse\n",
    "\n",
    "# Initialize the left pointer\n",
    "left = 0  \n",
    "# Initialize the right pointer\n",
    "right = len(my_list) - 1  \n",
    "\n",
    "# Loop until the left pointer is less than the right pointer\n",
    "while left < right:\n",
    "    # Swap the elements at the left and right pointers\n",
    "    my_list[left], my_list[right] = my_list[right], my_list[left]\n",
    "    # Move the pointers towards the center\n",
    "    left += 1\n",
    "    right -= 1\n",
    "\n",
    "# Output the result\n",
    "print(f\"Reversed list: {my_list}\")  # Output the result"
   ]
  },
  {
   "cell_type": "markdown",
   "id": "379a8e86-22cc-473e-8d93-7108441963f0",
   "metadata": {},
   "source": [
    "<b>[Q-15] Implement a code to find and remove duplicates from a list while preserving the original order of\n",
    "elements"
   ]
  },
  {
   "cell_type": "code",
   "execution_count": 49,
   "id": "d2ce22cc-5252-45c8-8315-d23c30e9d934",
   "metadata": {},
   "outputs": [
    {
     "name": "stdout",
     "output_type": "stream",
     "text": [
      "List after removing duplicates: [1, 2, 3, 4, 5]\n"
     ]
    }
   ],
   "source": [
    "# Input list with duplicates\n",
    "my_list = [1, 2, 3, 2, 4, 1, 5]  # List with duplicates\n",
    "\n",
    "# Initialize a set to keep track of seen elements\n",
    "seen = set()  \n",
    "# Initialize a list to store the result without duplicates\n",
    "result = []   \n",
    "\n",
    "# Loop through each element in the input list\n",
    "for element in my_list:\n",
    "    # If the element has not been seen before\n",
    "    if element not in seen:\n",
    "        seen.add(element)  # Add it to the set of seen elements\n",
    "        result.append(element)  # Append it to the result list\n",
    "\n",
    "# Output the result\n",
    "print(f\"List after removing duplicates: {result}\")  # Output the result"
   ]
  },
  {
   "cell_type": "markdown",
   "id": "d1c87a9a-339f-4122-8ae1-ccaaeb25e9f6",
   "metadata": {},
   "source": [
    "<b>[Q-16] Create a code to check if a given list is sorted (either in ascending or descending order) or not"
   ]
  },
  {
   "cell_type": "code",
   "execution_count": 51,
   "id": "a4d9fa5a-e25c-44fd-9daf-c754d3e5aa68",
   "metadata": {},
   "outputs": [
    {
     "name": "stdout",
     "output_type": "stream",
     "text": [
      "Is the list sorted? True\n"
     ]
    }
   ],
   "source": [
    "# Input list to check\n",
    "my_list = [5, 4, 3, 2, 1]  # List to check\n",
    "\n",
    "# Check if the list is sorted in ascending order\n",
    "ascending = all(my_list[i] <= my_list[i + 1] for i in range(len(my_list) - 1))\n",
    "\n",
    "# Check if the list is sorted in descending order\n",
    "descending = all(my_list[i] >= my_list[i + 1] for i in range(len(my_list) - 1))\n",
    "\n",
    "# Determine if the list is sorted in either order\n",
    "is_sorted = ascending or descending\n",
    "\n",
    "# Output the result\n",
    "print(f\"Is the list sorted? {is_sorted}\")  # Output the result"
   ]
  },
  {
   "cell_type": "markdown",
   "id": "eff0b4c6-f018-42ff-99b3-4b37e9538d42",
   "metadata": {},
   "source": [
    "<b>[Q-17] Write a code to merge two sorted lists into a single sorted list"
   ]
  },
  {
   "cell_type": "code",
   "execution_count": 53,
   "id": "9fa91bec-6f2f-49ee-978c-a0c7cad2c423",
   "metadata": {},
   "outputs": [
    {
     "name": "stdout",
     "output_type": "stream",
     "text": [
      "Merged sorted list: [1, 2, 3, 4, 5, 6]\n"
     ]
    }
   ],
   "source": [
    "# First sorted list\n",
    "sorted_list1 = [1, 3, 5]  \n",
    "# Second sorted list\n",
    "sorted_list2 = [2, 4, 6]  \n",
    "\n",
    "# Initialize an empty list to store the merged result\n",
    "merged_list = []  \n",
    "# Initialize pointers for both lists\n",
    "i, j = 0, 0  \n",
    "\n",
    "# Loop until we reach the end of either list\n",
    "while i < len(sorted_list1) and j < len(sorted_list2):\n",
    "    # Compare the current elements of both lists\n",
    "    if sorted_list1[i] < sorted_list2[j]:\n",
    "        merged_list.append(sorted_list1[i])  # Add the smaller element to the merged list\n",
    "        i += 1  # Move the pointer in the first list\n",
    "    else:\n",
    "        merged_list.append(sorted_list2[j])  # Add the smaller element to the merged list\n",
    "        j += 1  # Move the pointer in the second list\n",
    "\n",
    "# If there are remaining elements in sorted_list1, add them to the merged list\n",
    "while i < len(sorted_list1):\n",
    "    merged_list.append(sorted_list1[i])\n",
    "    i += 1\n",
    "\n",
    "# If there are remaining elements in sorted_list2, add them to the merged list\n",
    "while j < len(sorted_list2):\n",
    "    merged_list.append(sorted_list2[j])\n",
    "    j += 1\n",
    "\n",
    "# Output the result\n",
    "print(f\"Merged sorted list: {merged_list}\")  # Output the result"
   ]
  },
  {
   "cell_type": "markdown",
   "id": "4d3987ad-a99f-466d-90ec-e800a74e74e0",
   "metadata": {},
   "source": [
    "<b>[Q-18] Implement a code to find the intersection of two given lists"
   ]
  },
  {
   "cell_type": "code",
   "execution_count": 55,
   "id": "b963e165-3833-4e26-adcc-de06848dd29d",
   "metadata": {},
   "outputs": [
    {
     "name": "stdout",
     "output_type": "stream",
     "text": [
      "[4, 5]\n"
     ]
    }
   ],
   "source": [
    "# Define the two lists\n",
    "list1 = [1, 2, 3, 4, 5]  # First list\n",
    "list2 = [4, 5, 6, 7, 8]  # Second list\n",
    "\n",
    "# Convert lists to sets\n",
    "set1 = set(list1)\n",
    "set2 = set(list2)\n",
    "\n",
    "# Find intersection\n",
    "intersection = set1.intersection(set2)\n",
    "\n",
    "# Convert back to list if needed\n",
    "result = list(intersection)\n",
    "\n",
    "# Output the result\n",
    "print(result)  # Output"
   ]
  },
  {
   "cell_type": "markdown",
   "id": "9cac9dda-369e-4186-a58f-7dc35dab09e5",
   "metadata": {},
   "source": [
    "<b>[Q-19] Create a code to find the union of two lists without duplicates"
   ]
  },
  {
   "cell_type": "code",
   "execution_count": 57,
   "id": "cf42b303-6ca4-44b9-8c52-c489eaae2353",
   "metadata": {},
   "outputs": [
    {
     "name": "stdout",
     "output_type": "stream",
     "text": [
      "[1, 2, 3, 4, 5, 6, 7, 8]\n"
     ]
    }
   ],
   "source": [
    "# Define the two lists\n",
    "list1 = [1, 2, 3, 4, 5]  # First list\n",
    "list2 = [4, 5, 6, 7, 8]  # Second list\n",
    "\n",
    "# Convert lists to sets\n",
    "set1 = set(list1)\n",
    "set2 = set(list2)\n",
    "\n",
    "# Find union\n",
    "union = set1.union(set2)\n",
    "\n",
    "# Convert back to list if needed\n",
    "result = list(union)\n",
    "\n",
    "# Output the result\n",
    "print(result)  "
   ]
  },
  {
   "cell_type": "markdown",
   "id": "df170e7e-ddf2-409f-ac26-74a2ca28d007",
   "metadata": {},
   "source": [
    "<b>[Q-20] Write a code to shuffle a given list randomly without using any built-in shuffle functions"
   ]
  },
  {
   "cell_type": "code",
   "execution_count": 63,
   "id": "8a267b29-8cf1-423f-b04b-d87fdbbf010c",
   "metadata": {},
   "outputs": [
    {
     "name": "stdout",
     "output_type": "stream",
     "text": [
      "[4, 2, 3, 5, 1]\n"
     ]
    }
   ],
   "source": [
    "import random\n",
    "\n",
    "# Define the original list\n",
    "original_list = [1, 2, 3, 4, 5]\n",
    "\n",
    "# Create a copy of the list to avoid modifying the original\n",
    "shuffled_list = original_list[:]\n",
    "\n",
    "# Get the length of the list\n",
    "n = len(shuffled_list)\n",
    "\n",
    "# Fisher-Yates shuffle algorithm\n",
    "for i in range(n - 1, 0, -1):\n",
    "    # Generate a random index from 0 to i\n",
    "    j = random.randint(0, i)\n",
    "    # Swap elements at indices i and j\n",
    "    shuffled_list[i], shuffled_list[j] = shuffled_list[j], shuffled_list[i]\n",
    "\n",
    "# Output the shuffled list\n",
    "print(shuffled_list)  # Output: A randomly shuffled version of the original list"
   ]
  },
  {
   "cell_type": "markdown",
   "id": "339dd58d-0027-463c-b7c9-db385e3e0f83",
   "metadata": {},
   "source": [
    "<b>[Q-21] Write a code that takes two tuples as input and returns a new tuple containing elements that are\n",
    "common to both input tuples"
   ]
  },
  {
   "cell_type": "code",
   "execution_count": 67,
   "id": "037de53f-331c-4935-84f3-a8c43966fb7c",
   "metadata": {},
   "outputs": [
    {
     "name": "stdout",
     "output_type": "stream",
     "text": [
      "(3, 4)\n"
     ]
    }
   ],
   "source": [
    "# Define the two tuples\n",
    "tuple_a = (1, 2, 3, 4)  # First input tuple\n",
    "tuple_b = (3, 4, 5, 6)  # Second input tuple\n",
    "\n",
    "# Convert the first tuple to a set\n",
    "set1 = set(tuple_a)\n",
    "\n",
    "# Convert the second tuple to a set\n",
    "set2 = set(tuple_b)\n",
    "\n",
    "# Find the intersection of both sets to get common elements\n",
    "common_set = set1 & set2\n",
    "\n",
    "# Convert the resulting set back to a tuple\n",
    "result = tuple(common_set)\n",
    "\n",
    "# Print the result, which should show the common elements\n",
    "print(result)  "
   ]
  },
  {
   "cell_type": "markdown",
   "id": "d9b7f5a7-7ffb-4905-a70f-a6eeb793563c",
   "metadata": {},
   "source": [
    "<b>[Q-22] Create a code that prompts the user to enter two sets of integers separated by commas. Then, print the\n",
    "intersection of these two sets"
   ]
  },
  {
   "cell_type": "code",
   "execution_count": 69,
   "id": "87a75dc7-5371-48ec-931e-07e6f008675f",
   "metadata": {},
   "outputs": [
    {
     "name": "stdin",
     "output_type": "stream",
     "text": [
      "Enter the first set of integers separated by commas:  7,4,5,8,9,9,2,5,6\n",
      "Enter the second set of integers separated by commas:  4,8,5,2,1,9,7,6,8\n"
     ]
    },
    {
     "name": "stdout",
     "output_type": "stream",
     "text": [
      "The intersection of the two sets is: {2, 4, 5, 6, 7, 8, 9}\n"
     ]
    }
   ],
   "source": [
    "# Prompt the user to enter the first set of integers\n",
    "input1 = input(\"Enter the first set of integers separated by commas: \")\n",
    "\n",
    "# Prompt the user to enter the second set of integers\n",
    "input2 = input(\"Enter the second set of integers separated by commas: \")\n",
    "\n",
    "# Convert the input strings to sets of integers\n",
    "set1 = set(map(int, input1.split(',')))\n",
    "set2 = set(map(int, input2.split(',')))\n",
    "\n",
    "# Calculate the intersection of the two sets\n",
    "intersection = set1 & set2\n",
    "\n",
    "# Print the result\n",
    "print(\"The intersection of the two sets is:\", intersection)"
   ]
  },
  {
   "cell_type": "markdown",
   "id": "854cea5e-f211-474f-aa02-378fb3c52d0f",
   "metadata": {},
   "source": [
    "<b>[Q-23] Write a code to concatenate two tuples. The function should take two tuples as input and return a new\n",
    "tuple containing elements from both input tuples"
   ]
  },
  {
   "cell_type": "code",
   "execution_count": 71,
   "id": "c785d53c-0de8-4f26-9eed-89b4aa143646",
   "metadata": {},
   "outputs": [
    {
     "name": "stdout",
     "output_type": "stream",
     "text": [
      "The concatenated tuple is: (1, 2, 3, 4, 5, 6)\n"
     ]
    }
   ],
   "source": [
    "# Define the two tuples\n",
    "tuple_a = (1, 2, 3)  # First input tuple\n",
    "tuple_b = (4, 5, 6)  # Second input tuple\n",
    "\n",
    "# Concatenate the two input tuples using the + operator\n",
    "concatenated_tuple = tuple_a + tuple_b\n",
    "\n",
    "# Print the result, which should show the concatenated tuple\n",
    "print(\"The concatenated tuple is:\", concatenated_tuple)"
   ]
  },
  {
   "cell_type": "markdown",
   "id": "20a01aac-6a2f-4b69-ad77-b40f668ec69c",
   "metadata": {},
   "source": [
    "<b>[Q-24] Develop a code that prompts the user to input two sets of strings. Then, print the elements that are\n",
    "present in the first set but not in the second set"
   ]
  },
  {
   "cell_type": "code",
   "execution_count": 73,
   "id": "62989814-451d-442c-b0f8-98bf2b924b65",
   "metadata": {},
   "outputs": [
    {
     "name": "stdin",
     "output_type": "stream",
     "text": [
      "Enter the first set of strings separated by commas:  f,r,t,y,4,5,6,7\n",
      "Enter the second set of strings separated by commas:  h,t,x,d,9,4,5,3\n"
     ]
    },
    {
     "name": "stdout",
     "output_type": "stream",
     "text": [
      "Elements present in the first set but not in the second set: {'f', '7', 'r', 'y', '6'}\n"
     ]
    }
   ],
   "source": [
    "# Prompt the user to enter the first set of strings\n",
    "input1 = input(\"Enter the first set of strings separated by commas: \")\n",
    "\n",
    "# Prompt the user to enter the second set of strings\n",
    "input2 = input(\"Enter the second set of strings separated by commas: \")\n",
    "\n",
    "# Convert the input strings to sets of strings\n",
    "set1 = set(input1.split(','))\n",
    "set2 = set(input2.split(','))\n",
    "\n",
    "# Calculate the difference of the first set from the second set\n",
    "difference = set1 - set2\n",
    "\n",
    "# Print the result\n",
    "print(\"Elements present in the first set but not in the second set:\", difference)\n"
   ]
  },
  {
   "cell_type": "markdown",
   "id": "7b4daf32-52a1-485a-b66d-9aaddafea40d",
   "metadata": {},
   "source": [
    "<b>[Q-25] Create a code that takes a tuple and two integers as input. The function should return a new tuple\n",
    "containing elements from the original tuple within the specified range of indices"
   ]
  },
  {
   "cell_type": "code",
   "execution_count": 75,
   "id": "f22ddf67-1f0d-4d2c-b7a4-a18f7c1d8688",
   "metadata": {},
   "outputs": [
    {
     "name": "stdout",
     "output_type": "stream",
     "text": [
      "The sliced tuple is: (20, 30, 40)\n"
     ]
    }
   ],
   "source": [
    "# Define the original tuple\n",
    "my_tuple = (10, 20, 30, 40, 50, 60)  # Original tuple\n",
    "\n",
    "# Specify the starting and ending indices for slicing\n",
    "start = 1  # Starting index\n",
    "end = 4    # Ending index\n",
    "\n",
    "# Use slicing to get elements from the original tuple within the specified range\n",
    "sliced_tuple = my_tuple[start:end]\n",
    "\n",
    "# Print the result, which should show the sliced tuple\n",
    "print(\"The sliced tuple is:\", sliced_tuple)  "
   ]
  },
  {
   "cell_type": "markdown",
   "id": "5d306670-9a36-4c5d-9088-4ef00c8422ff",
   "metadata": {},
   "source": [
    "<b>[Q-26] Write a code that prompts the user to input two sets of characters. Then, print the union of these two sets"
   ]
  },
  {
   "cell_type": "code",
   "execution_count": 79,
   "id": "b6f8969f-ccf6-4482-8041-a1a2b1fdd959",
   "metadata": {},
   "outputs": [
    {
     "name": "stdin",
     "output_type": "stream",
     "text": [
      "Enter the first set of characters:  silent\n",
      "Enter the second set of characters:  listen\n"
     ]
    },
    {
     "name": "stdout",
     "output_type": "stream",
     "text": [
      "The union of the two sets is: teslin\n"
     ]
    }
   ],
   "source": [
    "# Prompt the user to enter the first set of characters\n",
    "user_input1 = input(\"Enter the first set of characters: \")\n",
    "set1 = set(user_input1)\n",
    "\n",
    "# Prompt the user to enter the second set of characters\n",
    "user_input2 = input(\"Enter the second set of characters: \")\n",
    "set2 = set(user_input2)\n",
    "\n",
    "# Calculate the union of the two sets\n",
    "union_set = set1.union(set2)\n",
    "\n",
    "# Print the result\n",
    "print(\"The union of the two sets is:\", ''.join(union_set))"
   ]
  },
  {
   "cell_type": "markdown",
   "id": "7a73661b-a560-4102-a83e-a5859486263d",
   "metadata": {},
   "source": [
    "<b>[Q-27] Develop a code that takes a tuple of integers as input. The function should return the maximum and\n",
    "minimum values from the tuple using tuple unpacking"
   ]
  },
  {
   "cell_type": "code",
   "execution_count": 81,
   "id": "2f663992-7f0d-4f64-b0e1-ed94e8682126",
   "metadata": {},
   "outputs": [
    {
     "name": "stdout",
     "output_type": "stream",
     "text": [
      "Maximum value: 40\n",
      "Minimum value: 5\n"
     ]
    }
   ],
   "source": [
    "# Input: Define a tuple of integers\n",
    "input_tuple = (10, 20, 5, 40, 15)  # Example tuple of integers\n",
    "\n",
    "# Calculate the maximum and minimum values\n",
    "max_value = max(input_tuple)\n",
    "min_value = min(input_tuple)\n",
    "\n",
    "# Use tuple unpacking to store the results\n",
    "result = (max_value, min_value)\n",
    "\n",
    "# Print the results\n",
    "print(\"Maximum value:\", result[0])\n",
    "print(\"Minimum value:\", result[1])"
   ]
  },
  {
   "cell_type": "markdown",
   "id": "5754334f-8d05-454a-96b1-02323083e4b9",
   "metadata": {},
   "source": [
    "<b>[Q-28] Create a code that defines two sets of integers. Then, print the union, intersection, and difference of these\n",
    "two sets"
   ]
  },
  {
   "cell_type": "code",
   "execution_count": 83,
   "id": "739ae565-91a6-4312-987b-427b2f8c8695",
   "metadata": {},
   "outputs": [
    {
     "name": "stdout",
     "output_type": "stream",
     "text": [
      "Set 1: {1, 2, 3, 4, 5}\n",
      "Set 2: {4, 5, 6, 7, 8}\n",
      "Union of Set 1 and Set 2: {1, 2, 3, 4, 5, 6, 7, 8}\n",
      "Intersection of Set 1 and Set 2: {4, 5}\n",
      "Difference of Set 1 - Set 2: {1, 2, 3}\n",
      "Difference of Set 2 - Set 1: {8, 6, 7}\n"
     ]
    }
   ],
   "source": [
    "# Define two sets of integers\n",
    "set1 = {1, 2, 3, 4, 5}\n",
    "set2 = {4, 5, 6, 7, 8}\n",
    "\n",
    "# Calculate the union of the two sets\n",
    "union_set = set1.union(set2)\n",
    "\n",
    "# Calculate the intersection of the two sets\n",
    "intersection_set = set1.intersection(set2)\n",
    "\n",
    "# Calculate the difference of the two sets (set1 - set2)\n",
    "difference_set1_set2 = set1.difference(set2)\n",
    "\n",
    "# Calculate the difference of the two sets (set2 - set1)\n",
    "difference_set2_set1 = set2.difference(set1)\n",
    "\n",
    "# Print the results\n",
    "print(\"Set 1:\", set1)\n",
    "print(\"Set 2:\", set2)\n",
    "print(\"Union of Set 1 and Set 2:\", union_set)\n",
    "print(\"Intersection of Set 1 and Set 2:\", intersection_set)\n",
    "print(\"Difference of Set 1 - Set 2:\", difference_set1_set2)\n",
    "print(\"Difference of Set 2 - Set 1:\", difference_set2_set1)"
   ]
  },
  {
   "cell_type": "markdown",
   "id": "6964ce53-097b-4423-8be3-830b753634ad",
   "metadata": {},
   "source": [
    "<b>[Q-29] Write a code that takes a tuple and an element as input. The function should return the count of\n",
    "occurrences of the given element in the tuple"
   ]
  },
  {
   "cell_type": "code",
   "execution_count": 91,
   "id": "1c7b881b-b2dc-4948-b9b7-85fe09aa9323",
   "metadata": {},
   "outputs": [
    {
     "name": "stdout",
     "output_type": "stream",
     "text": [
      "The element 2 occurs 3 times in the tuple.\n"
     ]
    }
   ],
   "source": [
    "# Input: Define a tuple and an element to count\n",
    "input_tuple = (1, 2, 3, 4, 5, 2, 2, 6)  # Example tuple\n",
    "element_to_count = 2  # Element whose occurrences we want to count\n",
    "\n",
    "# Count occurrences of the element in the tuple\n",
    "count = input_tuple.count(element_to_count)\n",
    "\n",
    "# Print the result\n",
    "print(f\"The element {element_to_count} occurs {count} times in the tuple.\")"
   ]
  },
  {
   "cell_type": "markdown",
   "id": "2561d189-98f7-46de-b451-b74a3a9215b4",
   "metadata": {},
   "source": [
    "<b>[Q-30] Develop a code that prompts the user to input two sets of strings. Then, print the symmetric difference of\n",
    "these two sets"
   ]
  },
  {
   "cell_type": "code",
   "execution_count": 99,
   "id": "374372eb-a20c-47ba-a407-3a739790e3db",
   "metadata": {},
   "outputs": [
    {
     "name": "stdin",
     "output_type": "stream",
     "text": [
      "Enter the first set of strings (comma-separated):  1,2,3,3,4\n",
      "Enter the second set of strings (comma-separated):  3,4,5,6\n"
     ]
    },
    {
     "name": "stdout",
     "output_type": "stream",
     "text": [
      "Set 1: {'4', '1', '2', '3'}\n",
      "Set 2: {'6', '4', '5', '3'}\n",
      "Symmetric Difference: {'2', '5', '1', '6'}\n"
     ]
    }
   ],
   "source": [
    "# Prompt the user for the first set of strings\n",
    "input_set1 = input(\"Enter the first set of strings (comma-separated): \")\n",
    "# Split the input string by commas, strip whitespace, and convert to a set\n",
    "set1 = set(s.strip() for s in input_set1.split(','))\n",
    "\n",
    "# Prompt the user for the second set of strings\n",
    "input_set2 = input(\"Enter the second set of strings (comma-separated): \")\n",
    "# Split the input string by commas, strip whitespace, and convert to a set\n",
    "set2 = set(s.strip() for s in input_set2.split(','))\n",
    "\n",
    "# Calculate the symmetric difference\n",
    "symmetric_difference = set1.symmetric_difference(set2)\n",
    "\n",
    "# Print the results\n",
    "print(\"Set 1:\", set1)\n",
    "print(\"Set 2:\", set2)\n",
    "print(\"Symmetric Difference:\", symmetric_difference)"
   ]
  },
  {
   "cell_type": "markdown",
   "id": "a7880852-7f4d-4386-bec5-303bb0493b57",
   "metadata": {},
   "source": [
    "<b>[Q-31]  Write a code that takes a list of words as input and returns a dictionary where the keys are unique words\n",
    "and the values are the frequencies of those words in the input list"
   ]
  },
  {
   "cell_type": "code",
   "execution_count": 109,
   "id": "e7692ef6-3501-409b-98b8-b00f32c1f936",
   "metadata": {},
   "outputs": [
    {
     "name": "stdin",
     "output_type": "stream",
     "text": [
      "Enter a list of words (space-separated):  Ayush Ayush\n"
     ]
    },
    {
     "name": "stdout",
     "output_type": "stream",
     "text": [
      "Word Frequencies: {'Ayush': 2}\n"
     ]
    }
   ],
   "source": [
    "# Prompt the user for a list of words\n",
    "input_words = input(\"Enter a list of words (space-separated): \")\n",
    "\n",
    "# Split the input string into a list of words\n",
    "words_list = input_words.split()\n",
    "\n",
    "# Create a dictionary to store word frequencies\n",
    "word_frequencies = {}\n",
    "\n",
    "# Count the frequencies of each word\n",
    "for word in words_list:\n",
    "    # If the word is already in the dictionary, increment its count\n",
    "    if word in word_frequencies:\n",
    "        word_frequencies[word] += 1\n",
    "    else:\n",
    "        # Otherwise, add the word to the dictionary with a count of 1\n",
    "        word_frequencies[word] = 1\n",
    "\n",
    "# Print the resulting dictionary\n",
    "print(\"Word Frequencies:\", word_frequencies)"
   ]
  },
  {
   "cell_type": "markdown",
   "id": "1252cc7c-ee77-4233-bcdf-a349b8e5423a",
   "metadata": {},
   "source": [
    "<b>[Q-32] Write a code that takes two dictionaries as input and merges them into a single dictionary. If there are\n",
    "common keys, the values should be added together"
   ]
  },
  {
   "cell_type": "code",
   "execution_count": 115,
   "id": "dcad0374-c014-44c2-8966-afdb47a53fc9",
   "metadata": {},
   "outputs": [
    {
     "name": "stdin",
     "output_type": "stream",
     "text": [
      "Enter the first dictionary (in the format key1:value1,key2:value2):  Name:Ayush,Age:22\n",
      "Enter the second dictionary (in the format key1:value1,key2:value2):  Name:Shruti,Age:22\n"
     ]
    },
    {
     "name": "stdout",
     "output_type": "stream",
     "text": [
      "Merged Dictionary: {'Name': 'Ayush, Shruti', 'Age': '22, 22'}\n"
     ]
    }
   ],
   "source": [
    "# Input for the first dictionary\n",
    "input_dict1 = input(\"Enter the first dictionary (in the format key1:value1,key2:value2): \")\n",
    "dict1 = dict(item.split(\":\") for item in input_dict1.split(\",\"))\n",
    "\n",
    "# Input for the second dictionary\n",
    "input_dict2 = input(\"Enter the second dictionary (in the format key1:value1,key2:value2): \")\n",
    "dict2 = dict(item.split(\":\") for item in input_dict2.split(\",\"))\n",
    "\n",
    "# Create a merged dictionary starting with the first dictionary\n",
    "merged_dict = dict1.copy()\n",
    "\n",
    "# Merge the second dictionary into the merged dictionary\n",
    "for key, value in dict2.items():\n",
    "    if key in merged_dict:\n",
    "        # If the key exists, concatenate the values (assuming they are strings)\n",
    "        merged_dict[key] += f\", {value}\"  # This will append the new value to the existing one\n",
    "    else:\n",
    "        # If the key does not exist, add the key-value pair\n",
    "        merged_dict[key] = value\n",
    "\n",
    "# Print the resulting merged dictionary\n",
    "print(\"Merged Dictionary:\", merged_dict)"
   ]
  },
  {
   "cell_type": "markdown",
   "id": "e42538ea-ba08-4435-89a3-c957bab728af",
   "metadata": {},
   "source": [
    "<b>[Q-33] Write a code to access a value in a nested dictionary. The function should take the dictionary and a list of\n",
    "keys as input, and return the corresponding value. If any of the keys do not exist in the dictionary, the\n",
    "function should return None"
   ]
  },
  {
   "cell_type": "code",
   "execution_count": null,
   "id": "0fd338c3-2704-4322-941e-be30369a8dee",
   "metadata": {},
   "outputs": [],
   "source": [
    "# Function to access a value in a nested dictionary\n",
    "def access_nested_value(nested_dict, keys):\n",
    "    current_value = nested_dict\n",
    "    for key in keys:\n",
    "        if isinstance(current_value, dict) and key in current_value:\n",
    "            current_value = current_value[key]\n",
    "        else:\n",
    "            return None  # Return None if key does not exist\n",
    "    return current_value\n",
    "\n",
    "# Example nested dictionary\n",
    "nested_dict = {\n",
    "    'a': {\n",
    "        'b': {\n",
    "            'c': 42,\n",
    "            'd': 'Hello'\n",
    "        },\n",
    "        'e': 100\n",
    "    },\n",
    "    'f': 'World'\n",
    "}\n",
    "\n",
    "# Example usage\n",
    "keys_to_access = ['a', 'b','d']  # Change this list to test different keys\n",
    "result = access_nested_value(nested_dict, keys_to_access)\n",
    "\n",
    "# Print the result\n",
    "print(\"Accessed Value:\", result)  # Should output: Accessed Value: 42"
   ]
  },
  {
   "cell_type": "markdown",
   "id": "451299be-c4fe-429a-97ca-ea06079820d5",
   "metadata": {},
   "source": [
    "<b>[Q-34]  Write a code that takes a dictionary as input and returns a sorted version of it based on the values. You\n",
    "can choose whether to sort in ascending or descending order"
   ]
  },
  {
   "cell_type": "code",
   "execution_count": 151,
   "id": "83b007b9-ad79-4354-946b-773ba59b82d4",
   "metadata": {},
   "outputs": [
    {
     "name": "stdin",
     "output_type": "stream",
     "text": [
      "Enter a dictionary (in the format key1:value1,key2:value2):  A1:90,B1:80\n",
      "Enter 'asc' for ascending or 'desc' for descending order:  desc\n"
     ]
    },
    {
     "name": "stdout",
     "output_type": "stream",
     "text": [
      "Sorted Dictionary: {'A1': '90', 'B1': '80'}\n"
     ]
    }
   ],
   "source": [
    "# Input for the dictionary\n",
    "input_dict = input(\"Enter a dictionary (in the format key1:value1,key2:value2): \")\n",
    "# Convert input string to a dictionary\n",
    "input_dict = dict(item.split(\":\") for item in input_dict.split(\",\"))\n",
    "\n",
    "# Ask the user for the sorting order\n",
    "sort_order = input(\"Enter 'asc' for ascending or 'desc' for descending order: \").strip().lower()\n",
    "\n",
    "# Sort the dictionary based on values\n",
    "if sort_order == 'asc':\n",
    "    sorted_dict = dict(sorted(input_dict.items(), key=lambda item: str(item[1])))\n",
    "elif sort_order == 'desc':\n",
    "    sorted_dict = dict(sorted(input_dict.items(), key=lambda item: str(item[1]), reverse=True))\n",
    "else:\n",
    "    sorted_dict = None\n",
    "    print(\"Invalid sort order entered. Please enter 'asc' or 'desc'.\")\n",
    "\n",
    "# Print the sorted dictionary\n",
    "if sorted_dict is not None:\n",
    "    print(\"Sorted Dictionary:\", sorted_dict)"
   ]
  },
  {
   "cell_type": "markdown",
   "id": "89ffbba7-e0a6-4314-8769-eb645da6dd3c",
   "metadata": {},
   "source": [
    "<b>[Q-35] Write a code that inverts a dictionary, swapping keys and values. Ensure that the inverted dictionary\n",
    "correctly handles cases where multiple keys have the same value by storing the keys as a list in the\n",
    "inverted dictionary"
   ]
  },
  {
   "cell_type": "code",
   "execution_count": 155,
   "id": "a5ead85f-32e2-48f7-aaf6-925b5c6e9644",
   "metadata": {},
   "outputs": [
    {
     "name": "stdout",
     "output_type": "stream",
     "text": [
      "Original Dictionary: {'a': 1, 'b': 2, 'c': 1, 'd': 3, 'e': 2, 'f': 3}\n",
      "Inverted Dictionary: {1: ['a', 'c'], 2: ['b', 'e'], 3: ['d', 'f']}\n"
     ]
    }
   ],
   "source": [
    "# Original dictionary\n",
    "original_dict = {\n",
    "    'a': 1,\n",
    "    'b': 2,\n",
    "    'c': 1,\n",
    "    'd': 3,\n",
    "    'e': 2,\n",
    "}\n",
    "\n",
    "# Inverted dictionary initialization\n",
    "inverted_dict = {}\n",
    "\n",
    "# Iterating through the original dictionary\n",
    "for key, value in original_dict.items():\n",
    "    # If the value is already a key in the inverted dictionary\n",
    "    if value in inverted_dict:\n",
    "        # If it's not already a list, convert it to a list\n",
    "        if not isinstance(inverted_dict[value], list):\n",
    "            inverted_dict[value] = [inverted_dict[value]]\n",
    "        # Append the original key to the list\n",
    "        inverted_dict[value].append(key)\n",
    "    else:\n",
    "        # If the value is not yet in the inverted dictionary, just add it\n",
    "        inverted_dict[value] = key\n",
    "\n",
    "# Print the original and inverted dictionaries\n",
    "print(\"Original Dictionary:\", original_dict)\n",
    "print(\"Inverted Dictionary:\", inverted_dict)"
   ]
  },
  {
   "cell_type": "code",
   "execution_count": null,
   "id": "c1d8618a-18ba-443f-8e59-b0df866dc8ae",
   "metadata": {},
   "outputs": [],
   "source": []
  }
 ],
 "metadata": {
  "kernelspec": {
   "display_name": "Python 3 (ipykernel)",
   "language": "python",
   "name": "python3"
  },
  "language_info": {
   "codemirror_mode": {
    "name": "ipython",
    "version": 3
   },
   "file_extension": ".py",
   "mimetype": "text/x-python",
   "name": "python",
   "nbconvert_exporter": "python",
   "pygments_lexer": "ipython3",
   "version": "3.12.7"
  }
 },
 "nbformat": 4,
 "nbformat_minor": 5
}
