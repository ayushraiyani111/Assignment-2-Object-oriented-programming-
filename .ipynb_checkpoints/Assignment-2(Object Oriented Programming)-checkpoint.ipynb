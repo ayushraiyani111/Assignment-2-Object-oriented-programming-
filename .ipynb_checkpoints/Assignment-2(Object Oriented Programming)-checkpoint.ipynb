{
 "cells": [
  {
   "cell_type": "markdown",
   "id": "30fdd2c4-90f9-4ca1-9f22-3358b771f1ff",
   "metadata": {},
   "source": [
    "<b>[Q-1] Explain the importance of Functions"
   ]
  },
  {
   "cell_type": "markdown",
   "id": "abe707a0-d3d0-47d3-a041-3240d3b1e680",
   "metadata": {},
   "source": [
    "Functions in Python programming play a crucial role and are important for several reasons, and I'll explain this\n",
    "in easy language:\n",
    "\n",
    "1. Simplifying Tasks: Functions are like helpers that you can create to do specific jobs. Instead of writing the\n",
    "same code again and again, you can make a function to do it once. This makes your program shorter and\n",
    "easier to understand.\n",
    "\n",
    "2. Keeping Things Organized: In a big program, there can be lots of code. Functions help keep things\n",
    "organized. You give each job a name and put the code for that job inside the function. So, you know where to\n",
    "find things.\n",
    "\n",
    "3. Reusability: Once you create a function, you can use it in different parts of your program whenever you\n",
    "need that job done. This saves time, reduces mistakes, and makes your code more efficient.\n",
    "\n",
    "4. Collaboration: When working with others, functions make it easier to share and understand the code. You\n",
    "can tell your friends, \"Use this function to do that task,\" and they'll understand what it does."
   ]
  },
  {
   "cell_type": "markdown",
   "id": "8af87391-f91c-4010-afa3-ddfdba376b7b",
   "metadata": {},
   "source": [
    "<b> [Q-2]Write a basic function to greet students"
   ]
  },
  {
   "cell_type": "code",
   "execution_count": 16,
   "id": "f341d6a5-e90f-48cf-99de-e8f34489f9fe",
   "metadata": {},
   "outputs": [
    {
     "name": "stdout",
     "output_type": "stream",
     "text": [
      "Hi there from PWskills\n"
     ]
    }
   ],
   "source": [
    "def greetings():\n",
    "    print('Hi there from PWskills')\n",
    "greetings() #function calling"
   ]
  },
  {
   "cell_type": "markdown",
   "id": "ddd9433e-2ec7-41f8-82a3-5b91784d0004",
   "metadata": {},
   "source": [
    "<b> [Q-3] What is the difference between print and return statements"
   ]
  },
  {
   "cell_type": "markdown",
   "id": "82ead5ff-d9ff-4036-b872-ab833642517c",
   "metadata": {},
   "source": [
    "Print Statement:\n",
    "\n",
    "Purpose: Displays output to the console or terminal.\n",
    "\n",
    "Usage: Used when you want to show information to the user or for debugging purposes.\n",
    "\n",
    "Effect: It outputs the specified message to the console and doesn't affect the program's flow.\n"
   ]
  },
  {
   "cell_type": "code",
   "execution_count": 19,
   "id": "7bb55440-2560-4eab-a600-4bb4a70911ce",
   "metadata": {},
   "outputs": [
    {
     "name": "stdout",
     "output_type": "stream",
     "text": [
      "Hello, World!\n"
     ]
    }
   ],
   "source": [
    "def greet():\n",
    "    print(\"Hello, World!\")\n",
    "\n",
    "greet()  # Output: Hello, World!"
   ]
  },
  {
   "cell_type": "markdown",
   "id": "cb3ba929-9a7a-4524-baf8-665181eeeafc",
   "metadata": {},
   "source": [
    "Return Statement:\n",
    "\n",
    "Purpose: Sends a value back to the caller function or ends the execution of a function.\n",
    "\n",
    "Usage: Used within functions to pass data back to the caller.\n",
    "\n",
    "Effect: Stops the function's execution and optionally provides a value that can be stored or used later."
   ]
  },
  {
   "cell_type": "code",
   "execution_count": 21,
   "id": "9d4b4dda-9244-4d55-984a-5929e692605c",
   "metadata": {},
   "outputs": [
    {
     "name": "stdout",
     "output_type": "stream",
     "text": [
      "7\n"
     ]
    }
   ],
   "source": [
    "def add(a, b):\n",
    "    return a + b\n",
    "\n",
    "result = add(3, 4)  # result holds the value 7\n",
    "print(result)       # Output: 7"
   ]
  },
  {
   "cell_type": "markdown",
   "id": "33d8d921-1a67-4fa1-a4a5-6fdaca6ee4ce",
   "metadata": {},
   "source": [
    "<b>[Q-4] What are *args and **kwargs"
   ]
  },
  {
   "cell_type": "markdown",
   "id": "b7e2376d-73f3-428e-9f4e-c1081908372e",
   "metadata": {},
   "source": [
    "***args: Variable Positional Arguments\n",
    "\n",
    " Allows a function to accept any number of positional arguments.\n",
    "\n",
    "The * collects all the positional arguments passed to the function into a tuple."
   ]
  },
  {
   "cell_type": "code",
   "execution_count": 43,
   "id": "52591f7c-44d5-4c7e-9a89-bd62596331e8",
   "metadata": {},
   "outputs": [
    {
     "data": {
      "text/plain": [
       "34"
      ]
     },
     "execution_count": 43,
     "metadata": {},
     "output_type": "execute_result"
    }
   ],
   "source": [
    "# find the sum of 2 or more numbers\n",
    "def sum_(*args):\n",
    "    s = 0\n",
    "    for i in args:\n",
    "        s += i\n",
    "    return s\n",
    "sum_(1,2,3,5,6,8,9) #function calling"
   ]
  },
  {
   "cell_type": "markdown",
   "id": "eb5f4949-57e5-4dbf-9aad-ebfb50f04c8e",
   "metadata": {},
   "source": [
    "<b> [Q-5] Explain the iterator function"
   ]
  },
  {
   "cell_type": "markdown",
   "id": "ecab1559-879b-42b6-b96b-ad6cf59bd46f",
   "metadata": {},
   "source": [
    "An object that represents a stream of data.\n",
    "\n",
    "Implements two methods:\n",
    "\n",
    "<li> <b>__iter__()</b>: Returns the iterator object itself.\n",
    "\n",
    "<li> <b>__next__()</b>: Returns the next element in the sequence. Raises StopIteration when there are no more elements."
   ]
  },
  {
   "cell_type": "markdown",
   "id": "58019972-e98e-4582-b30c-9352eb54921f",
   "metadata": {},
   "source": [
    "<b> [Q-6] Write a code that generates the squares of numbers from 1 to n using a generator"
   ]
  },
  {
   "cell_type": "code",
   "execution_count": 58,
   "id": "d2232f3f-5ec7-47e2-8601-91d178a72a92",
   "metadata": {},
   "outputs": [
    {
     "name": "stdout",
     "output_type": "stream",
     "text": [
      "1\n",
      "4\n",
      "9\n",
      "16\n",
      "25\n",
      "36\n",
      "49\n",
      "64\n",
      "81\n",
      "100\n"
     ]
    }
   ],
   "source": [
    "def generate_squares(n):\n",
    "    for i in range(1, n + 1):\n",
    "        yield i * i\n",
    "\n",
    "# Example usage\n",
    "n = 10  # You can change this value to generate squares up to a different number\n",
    "squares_generator = generate_squares(n)\n",
    "\n",
    "for square in squares_generator:\n",
    "    print(square)"
   ]
  },
  {
   "cell_type": "markdown",
   "id": "b195a90b-576c-4d59-8cfb-90a130b94bb6",
   "metadata": {},
   "source": [
    "<b> [Q-7]  Write a code that generates palindromic numbers up to n using a generator"
   ]
  },
  {
   "cell_type": "code",
   "execution_count": 63,
   "id": "82994e32-3263-4f76-849a-6725c2423edf",
   "metadata": {},
   "outputs": [
    {
     "name": "stdout",
     "output_type": "stream",
     "text": [
      "1\n",
      "2\n",
      "3\n",
      "4\n",
      "5\n",
      "6\n",
      "7\n",
      "8\n",
      "9\n",
      "11\n",
      "22\n",
      "33\n",
      "44\n",
      "55\n",
      "66\n",
      "77\n",
      "88\n",
      "99\n"
     ]
    }
   ],
   "source": [
    "def is_palindrome(num):\n",
    "    return str(num) == str(num)[::-1]\n",
    "\n",
    "def generate_palindromes(n):\n",
    "    for i in range(1, n + 1):\n",
    "        if is_palindrome(i):\n",
    "            yield i\n",
    "\n",
    "# Example usage\n",
    "n = 100  # You can change this value to generate palindromic numbers up to a different number\n",
    "palindromes_generator = generate_palindromes(n)\n",
    "\n",
    "for palindrome in palindromes_generator:\n",
    "    print(palindrome)"
   ]
  },
  {
   "cell_type": "markdown",
   "id": "530d752d-5bd3-420c-ae99-ed082c669328",
   "metadata": {},
   "source": [
    "<b> [Q-8] Write a code that generates even numbers from 2 to n using a generator"
   ]
  },
  {
   "cell_type": "code",
   "execution_count": 68,
   "id": "ceaa05f2-3adc-48e4-b3cf-c92b372c1c34",
   "metadata": {},
   "outputs": [
    {
     "name": "stdout",
     "output_type": "stream",
     "text": [
      "2\n",
      "4\n",
      "6\n",
      "8\n",
      "10\n",
      "12\n",
      "14\n",
      "16\n",
      "18\n",
      "20\n"
     ]
    }
   ],
   "source": [
    "def generate_even_numbers(n):\n",
    "    for i in range(2, n + 1, 2):  # Start from 2, go up to n, step by 2\n",
    "        yield i\n",
    "\n",
    "# Example usage\n",
    "n = 20  # You can change this value to generate even numbers up to a different number\n",
    "even_numbers_generator = generate_even_numbers(n)\n",
    "\n",
    "for even_number in even_numbers_generator:\n",
    "    print(even_number)"
   ]
  },
  {
   "cell_type": "markdown",
   "id": "68dadf95-0191-46c9-8008-2827f4442a13",
   "metadata": {},
   "source": [
    "<b> [Q-9] Write a code that generates powers of two up to n using a generator"
   ]
  },
  {
   "cell_type": "code",
   "execution_count": 74,
   "id": "0802392f-cd3d-4076-bce5-f4b6806c8ca5",
   "metadata": {},
   "outputs": [
    {
     "name": "stdout",
     "output_type": "stream",
     "text": [
      "1\n",
      "2\n",
      "4\n",
      "8\n",
      "16\n",
      "32\n",
      "64\n"
     ]
    }
   ],
   "source": [
    "def generate_powers_of_two(n):\n",
    "    power = 1  # Start with 2^0, which is 1\n",
    "    while power <= n:\n",
    "        yield power\n",
    "        power *= 2  # Move to the next power of two\n",
    "\n",
    "# Example usage\n",
    "n = 100  # You can change this value to generate powers of two up to a different number\n",
    "powers_of_two_generator = generate_powers_of_two(n)\n",
    "\n",
    "for power in powers_of_two_generator:\n",
    "    print(power)"
   ]
  },
  {
   "cell_type": "markdown",
   "id": "610f5e76-4671-4712-840b-280bb9a0836c",
   "metadata": {},
   "source": [
    "<b> [Q-10] Write a code that generates prime numbers up to n using a generator"
   ]
  },
  {
   "cell_type": "code",
   "execution_count": 81,
   "id": "5c2c17e4-a6c5-432e-a3a6-eefa92972a01",
   "metadata": {},
   "outputs": [
    {
     "name": "stdout",
     "output_type": "stream",
     "text": [
      "2\n",
      "3\n",
      "5\n",
      "7\n",
      "11\n",
      "13\n",
      "17\n",
      "19\n",
      "23\n",
      "29\n",
      "31\n",
      "37\n",
      "41\n",
      "43\n",
      "47\n"
     ]
    }
   ],
   "source": [
    "# Function to check if a number is prime\n",
    "def is_prime(num):\n",
    "\n",
    "    # A prime number is greater than 1\n",
    "    if num < 2:\n",
    "        return False\n",
    "    # Only check divisors up to the square root of the number\n",
    "    # This is an optimization to reduce unnecessary checks\n",
    "    for i in range(2, int(num**0.5) + 1):\n",
    "        if num % i == 0:  # If the number is divisible by i, it's not prime\n",
    "            return False\n",
    "    # If no divisors are found, the number is prime\n",
    "    return True\n",
    "\n",
    "# Generator function to yield prime numbers up to n\n",
    "def generate_primes(n):\n",
    "\n",
    "    # Iterate over all numbers from 2 to n\n",
    "    for num in range(2, n + 1):\n",
    "        if is_prime(num):  # Check if the number is prime\n",
    "            yield num  # Yield the prime number\n",
    "\n",
    "\n",
    "n = 50  # You can change this value to generate prime numbers up to a different number\n",
    "# Create the prime number generator\n",
    "primes_generator = generate_primes(n)\n",
    "\n",
    "# Iterate through the generator and print each prime number\n",
    "for prime in primes_generator:\n",
    "    print(prime)\n"
   ]
  },
  {
   "cell_type": "markdown",
   "id": "e7db7528-2110-4005-bf37-aeaec799a812",
   "metadata": {},
   "source": [
    "<b> [Q-11] Write a code that uses a lambda function to calculate the sum of two numbers"
   ]
  },
  {
   "cell_type": "code",
   "execution_count": 91,
   "id": "f02bf407-cf66-457a-9a55-b2b12b0eb60c",
   "metadata": {},
   "outputs": [
    {
     "name": "stdout",
     "output_type": "stream",
     "text": [
      "13\n"
     ]
    }
   ],
   "source": [
    "add = lambda x, y: x + y\n",
    "result = add(6, 7)\n",
    "print(result) "
   ]
  },
  {
   "cell_type": "markdown",
   "id": "b1daf9fc-0b4a-4aee-8d30-06554f76ce53",
   "metadata": {},
   "source": [
    "<b> [Q-12] Write a code that uses a lambda function to calculate the square of a given number"
   ]
  },
  {
   "cell_type": "code",
   "execution_count": 93,
   "id": "438837e9-721a-422b-92fa-da73abbd5def",
   "metadata": {},
   "outputs": [
    {
     "name": "stdout",
     "output_type": "stream",
     "text": [
      "81\n"
     ]
    }
   ],
   "source": [
    "square = lambda x: x**2\n",
    "result = square(9)\n",
    "print(result)"
   ]
  },
  {
   "cell_type": "markdown",
   "id": "ea850378-9a3d-472e-9f26-160af6d91654",
   "metadata": {},
   "source": [
    "<b> [Q-13] Write a code that uses a lambda function to check whether a given number is even or odd"
   ]
  },
  {
   "cell_type": "code",
   "execution_count": 103,
   "id": "f0a689cc-f1fb-4e12-b55d-5a8a83cc1c73",
   "metadata": {},
   "outputs": [
    {
     "name": "stdout",
     "output_type": "stream",
     "text": [
      "54 is even.\n"
     ]
    }
   ],
   "source": [
    "# Lambda function to check if a number is even\n",
    "is_even = lambda x: x % 2 == 0\n",
    "\n",
    "# Lambda function to check if a number is odd\n",
    "is_odd = lambda x: x % 2 != 0\n",
    "\n",
    "# Example usage\n",
    "number = 54  # You can change this value to test other numbers\n",
    "\n",
    "if is_even(number):\n",
    "    print(f\"{number} is even.\")\n",
    "else:\n",
    "    print(f\"{number} is odd.\")\n",
    "\n",
    "# Alternatively, using the is_odd function\n",
    "#if is_odd(number):\n",
    " #   print(f\"{number} is odd.\")\n",
    "# else:\n",
    " #   print(f\"{number} is even.\")"
   ]
  },
  {
   "cell_type": "markdown",
   "id": "d06a8547-340d-4b37-9d26-e462c80f6b48",
   "metadata": {},
   "source": [
    "<b> [Q-15] Write a code that uses a lambda function to concatenate two strings"
   ]
  },
  {
   "cell_type": "code",
   "execution_count": 112,
   "id": "0acf75d6-f1f5-450a-9ad6-344b492a9e4b",
   "metadata": {},
   "outputs": [
    {
     "name": "stdout",
     "output_type": "stream",
     "text": [
      "Ayush with PwSkills\n"
     ]
    }
   ],
   "source": [
    "# Lambda function to concatenate two strings\n",
    "concat_strings = lambda str1, str2: str1 + str2\n",
    "\n",
    "# Example usage\n",
    "string1 = \"Ayush \"\n",
    "string2 = \"with PwSkills\"\n",
    "\n",
    "result = concat_strings(string1, string2)\n",
    "print(result)  # Output: Hello, World!"
   ]
  },
  {
   "cell_type": "markdown",
   "id": "713844c9-f997-4b86-981f-fdf891565378",
   "metadata": {},
   "source": [
    "<b>[Q-16] Write a code that uses a lambda function to find the maximum of three given numbers"
   ]
  },
  {
   "cell_type": "code",
   "execution_count": 115,
   "id": "98a557ac-24f3-4602-8393-e21a000df42e",
   "metadata": {},
   "outputs": [
    {
     "name": "stdout",
     "output_type": "stream",
     "text": [
      "The maximum of 10, 25, and 15 is: 25\n"
     ]
    }
   ],
   "source": [
    "# Lambda function to find the maximum of three numbers\n",
    "max_of_three = lambda a, b, c: max(a, b, c)\n",
    "\n",
    "# Example usage\n",
    "num1 = 10\n",
    "num2 = 25\n",
    "num3 = 15\n",
    "\n",
    "result = max_of_three(num1, num2, num3)\n",
    "print(f\"The maximum of {num1}, {num2}, and {num3} is: {result}\")"
   ]
  },
  {
   "cell_type": "markdown",
   "id": "50c438ee-0f11-40e7-870b-ff398f93e711",
   "metadata": {},
   "source": [
    "<b> [Q-17] Write a code that generates the squares of even numbers from a given list"
   ]
  },
  {
   "cell_type": "code",
   "execution_count": 120,
   "id": "6de79fbd-9eb8-4a1d-ae25-7d1af3dbd571",
   "metadata": {},
   "outputs": [
    {
     "name": "stdout",
     "output_type": "stream",
     "text": [
      "Squares of even numbers: [4, 16, 36, 64, 100]\n"
     ]
    }
   ],
   "source": [
    "# Given list of numbers\n",
    "numbers = [1, 2, 3, 4, 5, 6, 7, 8, 9, 10]\n",
    "\n",
    "# Lambda function to check if a number is even\n",
    "is_even = lambda x: x % 2 == 0\n",
    "\n",
    "# Generating squares of even numbers using list comprehension\n",
    "squares_of_evens = [x**2 for x in numbers if is_even(x)]\n",
    "\n",
    "# Output the result\n",
    "print(\"Squares of even numbers:\", squares_of_evens)"
   ]
  },
  {
   "cell_type": "markdown",
   "id": "46e37e16-dd03-405c-919b-ed30b06c10af",
   "metadata": {},
   "source": [
    "<b> [Q-18] Write a code that calculates the product of positive numbers from a given list"
   ]
  },
  {
   "cell_type": "code",
   "execution_count": 123,
   "id": "722cc00a-2d11-407c-bb20-38f92e95895e",
   "metadata": {},
   "outputs": [
    {
     "name": "stdout",
     "output_type": "stream",
     "text": [
      "Product of positive numbers: 120\n"
     ]
    }
   ],
   "source": [
    "from functools import reduce\n",
    "\n",
    "# Given list of numbers\n",
    "numbers = [3, -1, 2, 0, 5, -7, 4]\n",
    "\n",
    "# Filter positive numbers and calculate the product using reduce\n",
    "positive_numbers = filter(lambda x: x > 0, numbers)\n",
    "product = reduce(lambda x, y: x * y, positive_numbers, 1)  # Start with 1\n",
    "\n",
    "# Output the result\n",
    "print(\"Product of positive numbers:\", product)"
   ]
  },
  {
   "cell_type": "markdown",
   "id": "2c28fe23-43f4-4c42-b80c-6e53270f53de",
   "metadata": {},
   "source": [
    "<b> [Q-19] Write a code that doubles the values of odd numbers from a given list"
   ]
  },
  {
   "cell_type": "code",
   "execution_count": 127,
   "id": "f0928570-ed52-40fd-ac34-dad605b6d431",
   "metadata": {},
   "outputs": [
    {
     "name": "stdout",
     "output_type": "stream",
     "text": [
      "Doubled values of odd numbers: [2, 2, 6, 4, 10, 6, 14, 8, 18, 10]\n"
     ]
    }
   ],
   "source": [
    "# Given list of numbers\n",
    "numbers = [1, 2, 3, 4, 5, 6, 7, 8, 9, 10]\n",
    "\n",
    "# Use list comprehension to double the odd numbers\n",
    "doubled_odds = [num * 2 if num % 2 != 0 else num for num in numbers]\n",
    "\n",
    "# Output the result\n",
    "print(\"Doubled values of odd numbers:\", doubled_odds)"
   ]
  },
  {
   "cell_type": "markdown",
   "id": "0d8abdaa-c7c3-4aa8-9bc6-cef3bad040a1",
   "metadata": {},
   "source": [
    "<b>[Q-20] Write a code that calculates the sum of cubes of numbers from a given list"
   ]
  },
  {
   "cell_type": "code",
   "execution_count": 138,
   "id": "f36829ea-3f51-436e-92db-a6dc4305362e",
   "metadata": {},
   "outputs": [
    {
     "name": "stdout",
     "output_type": "stream",
     "text": [
      "Sum of cubes: 225\n"
     ]
    }
   ],
   "source": [
    "# Given list of numbers\n",
    "numbers = [1, 2, 3, 4, 5]\n",
    "\n",
    "# Calculate the sum of cubes using list comprehension\n",
    "sum_of_cubes = sum(num ** 3 for num in numbers)\n",
    "\n",
    "# Output the result\n",
    "print(\"Sum of cubes:\", sum_of_cubes)"
   ]
  },
  {
   "cell_type": "markdown",
   "id": "f4ffbe41-87c7-4b6c-8f60-67341f7f7c6d",
   "metadata": {},
   "source": [
    "<b> [Q-21] Write a code that filters out prime numbers from a given list"
   ]
  },
  {
   "cell_type": "code",
   "execution_count": 146,
   "id": "15c43938-f66c-4566-9c9f-0fb856695692",
   "metadata": {},
   "outputs": [
    {
     "name": "stdout",
     "output_type": "stream",
     "text": [
      "Non-prime numbers: [1, 4, 6, 8, 9, 10, 12, 14, 15]\n",
      "Prime numbers: [2, 3, 5, 7, 11, 13]\n"
     ]
    }
   ],
   "source": [
    "def is_prime(n):\n",
    "    \"\"\"Check if a number is prime.\"\"\"\n",
    "    if n <= 1:\n",
    "        return False\n",
    "    for i in range(2, int(n**0.5) + 1):\n",
    "        if n % i == 0:\n",
    "            return False\n",
    "    return True\n",
    "\n",
    "# Given list of numbers\n",
    "numbers = [1, 2, 3, 4, 5, 6, 7, 8, 9, 10, 11, 12, 13, 14, 15]\n",
    "\n",
    "# Filter out prime numbers\n",
    "primes = [num for num in numbers if is_prime(num)]\n",
    "non_primes = [num for num in numbers if not is_prime(num)]\n",
    "# Output the result\n",
    "print(\"Non-prime numbers:\", non_primes)\n",
    "print(\"Prime numbers:\", primes)"
   ]
  },
  {
   "cell_type": "markdown",
   "id": "f8edb456-d3ea-4fb5-a42c-e481729cd896",
   "metadata": {},
   "source": [
    "<b> [Q-22]  Write a code that uses a lambda function to calculate the sum of two numbers\n",
    "\n"
   ]
  },
  {
   "cell_type": "code",
   "execution_count": 149,
   "id": "b7ee9bc7-2be0-49b8-864f-23700a1ba8aa",
   "metadata": {},
   "outputs": [
    {
     "name": "stdout",
     "output_type": "stream",
     "text": [
      "13\n"
     ]
    }
   ],
   "source": [
    "add = lambda x, y: x + y\n",
    "result = add(6, 7)\n",
    "print(result) "
   ]
  },
  {
   "cell_type": "markdown",
   "id": "1e995123-696d-42d8-b52a-66a5b3b79b09",
   "metadata": {},
   "source": [
    "<b> [Q-23] Write a code that uses a lambda function to calculate the square of a given number"
   ]
  },
  {
   "cell_type": "code",
   "execution_count": 154,
   "id": "1849285c-bd2f-4163-81a4-ad28340eda16",
   "metadata": {},
   "outputs": [
    {
     "name": "stdout",
     "output_type": "stream",
     "text": [
      "81\n"
     ]
    }
   ],
   "source": [
    "square = lambda x: x**2\n",
    "result = square(9)\n",
    "print(result)"
   ]
  },
  {
   "cell_type": "markdown",
   "id": "75c16bcf-a5e1-4ab2-8555-de0392143cf4",
   "metadata": {},
   "source": [
    "<b> [Q-24] Write a code that uses a lambda function to check whether a given number is even or odd"
   ]
  },
  {
   "cell_type": "code",
   "execution_count": 157,
   "id": "cc0c304c-0a2b-4b1a-8c39-a9027763a628",
   "metadata": {},
   "outputs": [
    {
     "name": "stdout",
     "output_type": "stream",
     "text": [
      "54 is even.\n"
     ]
    }
   ],
   "source": [
    "# Lambda function to check if a number is even\n",
    "is_even = lambda x: x % 2 == 0\n",
    "\n",
    "# Lambda function to check if a number is odd\n",
    "is_odd = lambda x: x % 2 != 0\n",
    "\n",
    "# Example usage\n",
    "number = 54  # You can change this value to test other numbers\n",
    "\n",
    "if is_even(number):\n",
    "    print(f\"{number} is even.\")\n",
    "else:\n",
    "    print(f\"{number} is odd.\")\n",
    "\n",
    "# Alternatively, using the is_odd function\n",
    "#if is_odd(number):\n",
    " #   print(f\"{number} is odd.\")\n",
    "# else:\n",
    " #   print(f\"{number} is even.\")"
   ]
  },
  {
   "cell_type": "markdown",
   "id": "82cb7385-1a3f-439d-a076-03590ae4f1ad",
   "metadata": {},
   "source": [
    "<b> [Q-25] Write a code that uses a lambda function to concatenate two strings"
   ]
  },
  {
   "cell_type": "code",
   "execution_count": 163,
   "id": "f1f77ac4-af23-43e3-ad5c-927d24219568",
   "metadata": {},
   "outputs": [
    {
     "name": "stdout",
     "output_type": "stream",
     "text": [
      "Ayush with PwSkills\n"
     ]
    }
   ],
   "source": [
    "# Lambda function to concatenate two strings\n",
    "concat_strings = lambda str1, str2: str1 + str2\n",
    "\n",
    "# Example usage\n",
    "string1 = \"Ayush \"\n",
    "string2 = \"with PwSkills\"\n",
    "\n",
    "result = concat_strings(string1, string2)\n",
    "print(result)  # Output: Hello, World!"
   ]
  },
  {
   "cell_type": "markdown",
   "id": "30a90e2a-efba-4084-8989-21b907fdb425",
   "metadata": {},
   "source": [
    "<b>[Q-26] Write a code that uses a lambda function to find the maximum of three given numbers"
   ]
  },
  {
   "cell_type": "code",
   "execution_count": 169,
   "id": "b39f1d45-2acf-4022-ac10-7be563c3d1e8",
   "metadata": {},
   "outputs": [
    {
     "name": "stdout",
     "output_type": "stream",
     "text": [
      "The maximum of 10, 25, and 15 is: 25\n"
     ]
    }
   ],
   "source": [
    "# Lambda function to find the maximum of three numbers\n",
    "max_of_three = lambda a, b, c: max(a, b, c)\n",
    "\n",
    "# Example usage\n",
    "num1 = 10\n",
    "num2 = 25\n",
    "num3 = 15\n",
    "\n",
    "result = max_of_three(num1, num2, num3)\n",
    "print(f\"The maximum of {num1}, {num2}, and {num3} is: {result}\")"
   ]
  },
  {
   "cell_type": "markdown",
   "id": "e0cc592c-dc7a-419e-b066-7660778f86ca",
   "metadata": {},
   "source": [
    "<b> [Q-27] What is encapsulation in OOP?"
   ]
  },
  {
   "cell_type": "markdown",
   "id": "f29ee44a-b6f2-4eef-bbc1-80162ef3752a",
   "metadata": {},
   "source": [
    "<b>Encapsulation in Python\n",
    "\n",
    "Encapsulation is a fundamental concept in object-oriented programming that combines data (attributes) and methods (functions) into a single unit, typically a class. It allows for the hiding of an object's internal state and requires all interaction to be performed through an object's methods.\n",
    "\n"
   ]
  },
  {
   "cell_type": "code",
   "execution_count": 25,
   "id": "fe7fd1fd-df6f-471e-a0d3-ce27194b3130",
   "metadata": {},
   "outputs": [
    {
     "name": "stdout",
     "output_type": "stream",
     "text": [
      "Deposited: 100\n",
      "100\n",
      "Withdrew: 50\n",
      "50\n"
     ]
    }
   ],
   "source": [
    "class BankAccount:\n",
    "    def __init__(self, account_number, balance=0):\n",
    "        self.__account_number = account_number  # Private attribute\n",
    "        self.__balance = balance  # Private attribute\n",
    "\n",
    "    def deposit(self, amount):\n",
    "        if amount > 0:\n",
    "            self.__balance += amount\n",
    "            print(f\"Deposited: {amount}\")\n",
    "        else:\n",
    "            print(\"Deposit amount must be positive.\")\n",
    "\n",
    "    def withdraw(self, amount):\n",
    "        if 0 < amount <= self.__balance:\n",
    "            self.__balance -= amount\n",
    "            print(f\"Withdrew: {amount}\")\n",
    "        else:\n",
    "            print(\"Invalid withdrawal amount.\")\n",
    "\n",
    "    def get_balance(self):\n",
    "        return self.__balance  # Public method to access private data\n",
    "\n",
    "# Usage\n",
    "account = BankAccount(\"123456\")\n",
    "account.deposit(100)\n",
    "print(account.get_balance())  # Output: 100\n",
    "account.withdraw(50)\n",
    "print(account.get_balance())  # Output: 50"
   ]
  },
  {
   "cell_type": "markdown",
   "id": "c9fba38f-1b4c-43e5-b160-6865d938006d",
   "metadata": {},
   "source": [
    "<b>[Q-28] Explain the use of access modifiers in Python classes"
   ]
  },
  {
   "cell_type": "markdown",
   "id": "734e7b83-9403-4db0-bd31-5fa6288f1e7f",
   "metadata": {},
   "source": [
    "<b> Access Modifiers in Python\n",
    "\n",
    "While Python does not have explicit access modifiers like some other languages (e.g., Java or C++), it uses naming conventions to indicate the intended visibility of class members:\n",
    "\n",
    "<b>Public Members:\n",
    "\n",
    "Public members are accessible from anywhere, both inside and outside the class.\n",
    "By default, all class members are public."
   ]
  },
  {
   "cell_type": "code",
   "execution_count": 5,
   "id": "80baa213-9e63-4034-b26f-89d7ef7a760a",
   "metadata": {},
   "outputs": [
    {
     "name": "stdout",
     "output_type": "stream",
     "text": [
      "This is public\n"
     ]
    }
   ],
   "source": [
    "class Example:\n",
    "    def __init__(self):\n",
    "        self.public_var = \"This is public\"\n",
    "\n",
    "obj = Example()\n",
    "print(obj.public_var)  # Accessible from outside the class"
   ]
  },
  {
   "cell_type": "markdown",
   "id": "fe67396d-b189-49f7-b115-f79c47eb4f41",
   "metadata": {},
   "source": [
    "<b>Protected Members:\n",
    "\n",
    "Protected members are intended to be accessible within the class and its subclasses.\n",
    "They are indicated by a single underscore prefix (_)."
   ]
  },
  {
   "cell_type": "code",
   "execution_count": 8,
   "id": "9e9ecf47-a260-425e-95fa-ee27f5a1312c",
   "metadata": {},
   "outputs": [
    {
     "name": "stdout",
     "output_type": "stream",
     "text": [
      "This is protected\n"
     ]
    }
   ],
   "source": [
    "class Base:\n",
    "    def __init__(self):\n",
    "        self._protected_var = \"This is protected\"\n",
    "\n",
    "class Derived(Base):\n",
    "    def access_protected(self):\n",
    "        return self._protected_var  # Accessible in subclass\n",
    "\n",
    "obj = Derived()\n",
    "print(obj.access_protected())  # "
   ]
  },
  {
   "cell_type": "markdown",
   "id": "5b0188ec-3915-41e2-a819-aeaffd734776",
   "metadata": {},
   "source": [
    "<b>Private Members:\n",
    "\n",
    "Private members are intended to be accessible only within the class itself.\n",
    "They are indicated by a double underscore prefix (__), which invokes name mangling."
   ]
  },
  {
   "cell_type": "code",
   "execution_count": 19,
   "id": "f145458f-aeae-4397-b323-d13473a5b670",
   "metadata": {},
   "outputs": [
    {
     "name": "stdout",
     "output_type": "stream",
     "text": [
      "This is private\n"
     ]
    }
   ],
   "source": [
    "class Example:\n",
    "    def __init__(self):\n",
    "        self.__private_var = \"This is private\"\n",
    "\n",
    "    def get_private_var(self):\n",
    "        return self.__private_var  # Public method to access private variable\n",
    "\n",
    "obj = Example()\n",
    "print(obj.get_private_var())  \n",
    "# print(obj.__private_var)  # This would raise an AttributeError"
   ]
  },
  {
   "cell_type": "markdown",
   "id": "1b24eef3-68e8-486b-98bc-1e2fbece644a",
   "metadata": {},
   "source": [
    "<b>[Q-29] What is inheritance in OOP"
   ]
  },
  {
   "cell_type": "markdown",
   "id": "6c5aa029-6936-4c22-b865-d8d903166144",
   "metadata": {},
   "source": [
    "<p>Inheritance in object-oriented programming (OOP) is a mechanism that allows one class (the child or subclass) to inherit attributes and methods from another class (the parent or superclass). This concept is pivotal for promoting code reuse, establishing relationships between classes, and enhancing the organization of code.</p>\n",
    "\n",
    "<b> Key Features of Inheritance\n",
    "\n",
    "<b>1. Code Reusability\n",
    "\n",
    "Inheritance enables subclasses to use existing code from their parent classes, reducing redundancy. This means that common functionalities can be defined in a single location, which can then be inherited by multiple subclasses.\n",
    "\n",
    "<b>2. Hierarchical Relationships\n",
    "\n",
    "Inheritance establishes a hierarchy among classes. A subclass can extend or modify the behavior of its parent class, allowing for a clear structure and organization of related classes.\n",
    "\n",
    "<b>3. Types of Inheritance\n",
    "\n",
    "There are several types of inheritance, including:\n",
    "\n",
    "<ul>Single Inheritance: A subclass inherits from one superclass.</ul>\n",
    "<ul>Multiple Inheritance: A subclass inherits from multiple superclasses (this can lead to complexities such as the diamond problem).</ul>\n",
    "<ul>Multilevel Inheritance: A subclass inherits from another subclass, creating a chain of inheritance.</ul>\n",
    "<ul>Hierarchical Inheritance: Multiple subclasses inherit from a single superclass.</ul>\n",
    "<ul>Hybrid Inheritance: A combination of two or more types of inheritance.</ul>\n",
    "<b>4. Diamond Problem</b>: In languages that support multiple inheritance, the diamond problem can occur when a class inherits from two classes that share a common base class. This creates ambiguity in method resolution. For example, if both parent classes define a method with the same name, it may be unclear which method should be called when invoked from the child class. Languages like Python address this issue using a method resolution order (MRO) algorithm to determine the order in which classes are searched for methods.</p>\n",
    "\n",
    "\n",
    "\n",
    "<b>Conclusion\n",
    "\n",
    "Inheritance is a cornerstone of OOP that allows for efficient code management and organization through hierarchical relationships between classes. By enabling code reuse and providing mechanisms to handle complex relationships, inheritance plays a crucial role in developing scalable and maintainable software systems."
   ]
  },
  {
   "cell_type": "code",
   "execution_count": 15,
   "id": "dbae2214-4ea5-4266-990b-a4b10b10916e",
   "metadata": {},
   "outputs": [
    {
     "name": "stdout",
     "output_type": "stream",
     "text": [
      "Dog barks\n"
     ]
    }
   ],
   "source": [
    "class Animal:\n",
    "    def speak(self):\n",
    "        return \"Animal speaks\"\n",
    "\n",
    "class Dog(Animal):\n",
    "    def speak(self):\n",
    "        return \"Dog barks\"\n",
    "\n",
    "# Creating an instance of Dog\n",
    "my_dog = Dog()\n",
    "print(my_dog.speak())  \n"
   ]
  },
  {
   "cell_type": "markdown",
   "id": "6b10de9b-3eaa-48fb-9b65-64202e69aa85",
   "metadata": {},
   "source": [
    "<b>[Q-30] Define polymorphism in OOP"
   ]
  },
  {
   "cell_type": "markdown",
   "id": "b3842886-f747-4d4c-b822-91ae1e66c950",
   "metadata": {},
   "source": [
    "Polymorphism in object-oriented programming (OOP) is a fundamental concept that allows objects of different classes to be treated as objects of a common superclass. It enables a single interface to represent different underlying forms (data types). Polymorphism enhances flexibility and interoperability in code, allowing for methods to be defined in a way that can operate on objects of various classes.\n",
    "\n",
    "<b>Key Features of Polymorphism\n",
    "\n",
    "<b>1. Method Overriding\n",
    "\n",
    "This occurs when a subclass provides a specific implementation of a method that is already defined in its superclass. The method in the subclass overrides the method in the superclass, allowing for dynamic behavior based on the object type at runtime.\n",
    "\n",
    "<b>2. Method Overloading\n",
    "\n",
    "This is a compile-time polymorphism where multiple methods can have the same name but differ in the number or type of parameters. It allows different implementations based on the method signature.\n",
    "\n",
    "<b>3. Dynamic Binding\n",
    "\n",
    "Polymorphism relies on dynamic binding (or late binding), where the method to be executed is determined at runtime rather than compile time. This allows for more flexible and reusable code.\n",
    "\n",
    "<b>4. Interfaces and Abstract Classes\n",
    "\n",
    "Polymorphism is often achieved through interfaces or abstract classes, which define methods that must be implemented by derived classes. This ensures that different classes can be treated uniformly through a common interface.\n",
    "\n",
    "<b>Conclusion\n",
    "\n",
    "Polymorphism is a powerful feature of OOP that promotes flexibility and scalability in software design. By allowing methods to operate on objects of different types through a common interface, it simplifies code management and enhances functionality across diverse class hierarchies."
   ]
  },
  {
   "cell_type": "code",
   "execution_count": 43,
   "id": "1ac522f3-2127-4881-a54f-f6876ec7b812",
   "metadata": {},
   "outputs": [
    {
     "name": "stdout",
     "output_type": "stream",
     "text": [
      "Dog barks\n",
      "Cat meows\n"
     ]
    }
   ],
   "source": [
    "class Animal:\n",
    "    def speak(self):\n",
    "        return \"Animal speaks\"\n",
    "\n",
    "class Dog(Animal):\n",
    "    def speak(self):\n",
    "        return \"Dog barks\"\n",
    "\n",
    "class Cat(Animal):\n",
    "    def speak(self):\n",
    "        return \"Cat meows\"\n",
    "\n",
    "def animal_sound(animal):\n",
    "    print(animal.speak())\n",
    "\n",
    "# Creating instances\n",
    "my_dog = Dog()\n",
    "my_cat = Cat()\n",
    "\n",
    "# Using polymorphism\n",
    "animal_sound(my_dog)  # Outputs: Dog barks\n",
    "animal_sound(my_cat)  # Outputs: Cat meows\n"
   ]
  },
  {
   "cell_type": "markdown",
   "id": "cf212989-ac9c-4241-88c8-53e84d639b7d",
   "metadata": {},
   "source": [
    "<b> [Q-31]  Explain method overriding in Python"
   ]
  },
  {
   "cell_type": "markdown",
   "id": "07ecdeb5-ec17-47af-9239-a507187d7fa6",
   "metadata": {},
   "source": [
    "Method overriding in Python is a feature of object-oriented programming that allows a subclass to provide a specific implementation of a method that is already defined in its superclass. This capability enables the subclass to modify or extend the behavior of inherited methods, facilitating polymorphism and dynamic method resolution.\n",
    "Key Aspects of Method Overriding\n",
    "\n",
    "1. Definition\n",
    "Method overriding occurs when a subclass defines a method with the same name, return type, and parameters as a method in its superclass. When an instance of the subclass calls this method, the overridden version in the subclass is executed instead of the one in the superclass.\n",
    "\n",
    "2. Syntax\n",
    "To override a method, you simply define a method in the subclass with the same signature as that in the superclass. Here’s a basic example:"
   ]
  },
  {
   "cell_type": "code",
   "execution_count": 50,
   "id": "629bf68a-0b45-43a9-ab83-1ef610c80dd9",
   "metadata": {},
   "outputs": [
    {
     "name": "stdout",
     "output_type": "stream",
     "text": [
      "Dog barks\n",
      "Animal speaks\n"
     ]
    }
   ],
   "source": [
    "class Animal:\n",
    "    def speak(self):\n",
    "        return \"Animal speaks\"\n",
    "\n",
    "class Dog(Animal):\n",
    "    def speak(self):\n",
    "        return \"Dog barks\"\n",
    "\n",
    "# Creating an instance of Dog\n",
    "my_dog = Dog()\n",
    "animal = Animal()\n",
    "print(my_dog.speak())  # Outputs: Dog barks\n",
    "print(animal.speak())"
   ]
  },
  {
   "cell_type": "markdown",
   "id": "996e105f-59ac-415d-ab63-c991aa99a344",
   "metadata": {},
   "source": [
    "<b>[Q-32] Define a parent class Animal with a method make_sound that prints \"Generic animal sound\". Create a\n",
    "child class Dog inheriting from Animal with a method make_sound that prints \"Woof!"
   ]
  },
  {
   "cell_type": "code",
   "execution_count": 54,
   "id": "335811d9-af8d-49bf-97cb-e9bb8b6f9ad0",
   "metadata": {},
   "outputs": [
    {
     "name": "stdout",
     "output_type": "stream",
     "text": [
      "Generic animal sound\n",
      "Woof!\n"
     ]
    }
   ],
   "source": [
    "class Animal:\n",
    "    def make_sound(self):\n",
    "        print(\"Generic animal sound\")\n",
    "\n",
    "class Dog(Animal):\n",
    "    def make_sound(self):\n",
    "        print(\"Woof!\")\n",
    "\n",
    "# Creating instances\n",
    "generic_animal = Animal()\n",
    "dog = Dog()\n",
    "\n",
    "# Calling the methods\n",
    "generic_animal.make_sound()  # Outputs: Generic animal sound\n",
    "dog.make_sound()              # Outputs: Woof!\n"
   ]
  },
  {
   "cell_type": "markdown",
   "id": "078fb823-880e-440b-95fa-61dd1af7712e",
   "metadata": {},
   "source": [
    "<b>[Q-33] Define a method move in the Animal class that prints \"Animal moves\". Override the move method in the\n",
    "Dog class to print \"Dog runs."
   ]
  },
  {
   "cell_type": "code",
   "execution_count": 58,
   "id": "634b0973-f6f7-483a-abf3-f00bbb294ff4",
   "metadata": {},
   "outputs": [
    {
     "name": "stdout",
     "output_type": "stream",
     "text": [
      "Animal moves\n",
      "Dog runs\n"
     ]
    }
   ],
   "source": [
    "class Animal:\n",
    "    def move(self):\n",
    "        print(\"Animal moves\")\n",
    "\n",
    "class Dog(Animal):\n",
    "    def move(self):\n",
    "        print(\"Dog runs\")\n",
    "\n",
    "# Creating instances\n",
    "generic_animal = Animal()\n",
    "dog = Dog()\n",
    "\n",
    "# Calling the methods\n",
    "generic_animal.move()  # Outputs: Animal moves\n",
    "dog.move()             # Outputs: Dog runs\n"
   ]
  },
  {
   "cell_type": "markdown",
   "id": "d02ea2b5-b8c5-4591-a7bf-eccb5559d7db",
   "metadata": {},
   "source": [
    "<b>[Q-34] Create a class Mammal with a method reproduce that prints \"Giving birth to live young.\" Create a class\n",
    "DogMammal inheriting from both Dog and Mammal"
   ]
  },
  {
   "cell_type": "code",
   "execution_count": 61,
   "id": "d2a293e3-220a-49a9-949a-6a4f04de6bd9",
   "metadata": {},
   "outputs": [
    {
     "name": "stdout",
     "output_type": "stream",
     "text": [
      "Woof!\n",
      "Dog runs\n",
      "Giving birth to live young.\n"
     ]
    }
   ],
   "source": [
    "class Animal:\n",
    "    def make_sound(self):\n",
    "        print(\"Generic animal sound\")\n",
    "\n",
    "    def move(self):\n",
    "        print(\"Animal moves\")\n",
    "\n",
    "class Dog(Animal):\n",
    "    def make_sound(self):\n",
    "        print(\"Woof!\")\n",
    "\n",
    "    def move(self):\n",
    "        print(\"Dog runs\")\n",
    "\n",
    "class Mammal:\n",
    "    def reproduce(self):\n",
    "        print(\"Giving birth to live young.\")\n",
    "\n",
    "class DogMammal(Dog, Mammal):\n",
    "    pass\n",
    "\n",
    "# Creating instances\n",
    "dog_mammal = DogMammal()\n",
    "\n",
    "# Calling methods\n",
    "dog_mammal.make_sound()  # Outputs: Woof!\n",
    "dog_mammal.move()        # Outputs: Dog runs\n",
    "dog_mammal.reproduce()   # Outputs: Giving birth to live young.\n"
   ]
  },
  {
   "cell_type": "markdown",
   "id": "49b97e77-d38d-4429-b675-8fb6a5e61ba1",
   "metadata": {},
   "source": [
    "<b>[Q-35] Create a class GermanShepherd inheriting from Dog and override the make_sound method to print \"Bark\"!"
   ]
  },
  {
   "cell_type": "code",
   "execution_count": 65,
   "id": "eb62c38e-4448-4b50-977c-e636c87e33bf",
   "metadata": {},
   "outputs": [
    {
     "name": "stdout",
     "output_type": "stream",
     "text": [
      "Bark!\n"
     ]
    }
   ],
   "source": [
    "class Animal:\n",
    "    def make_sound(self):\n",
    "        print(\"Generic animal sound\")\n",
    "\n",
    "class Dog(Animal):\n",
    "    def make_sound(self):\n",
    "        print(\"Woof!\")\n",
    "\n",
    "class GermanShepherd(Dog):\n",
    "    def make_sound(self):\n",
    "        print(\"Bark!\")\n",
    "\n",
    "# Creating an instance of GermanShepherd\n",
    "german_shepherd = GermanShepherd()\n",
    "\n",
    "# Calling the make_sound method\n",
    "german_shepherd.make_sound()  # Outputs: Bark!\n"
   ]
  },
  {
   "cell_type": "markdown",
   "id": "0e1017ad-c019-4b2e-9ed1-78c74976e853",
   "metadata": {},
   "source": [
    "<b>[Q-36] Define constructors in both the Animal and Dog classes with different initialization parameters."
   ]
  },
  {
   "cell_type": "code",
   "execution_count": 70,
   "id": "8972ae98-d9a3-4f83-b057-3e1ef22ec380",
   "metadata": {},
   "outputs": [
    {
     "name": "stdout",
     "output_type": "stream",
     "text": [
      "Species: Cat, Age: 3\n",
      "Species: Dog, Age: 5, Name: Buddy, Breed: Golden Retriever\n"
     ]
    }
   ],
   "source": [
    "class Animal:\n",
    "    def __init__(self, species, age):\n",
    "        self.species = species  # Species of the animal\n",
    "        self.age = age          # Age of the animal\n",
    "\n",
    "    def display_info(self):\n",
    "        return f\"Species: {self.species}, Age: {self.age}\"\n",
    "\n",
    "\n",
    "class Dog(Animal):\n",
    "    def __init__(self, name, breed, age):\n",
    "        super().__init__('Dog', age)  # Call the constructor of the Animal class\n",
    "        self.name = name              # Name of the dog\n",
    "        self.breed = breed            # Breed of the dog\n",
    "\n",
    "    def display_info(self):\n",
    "        animal_info = super().display_info()  # Get info from the Animal class\n",
    "        return f\"{animal_info}, Name: {self.name}, Breed: {self.breed}\"\n",
    "\n",
    "\n",
    "# Example usage\n",
    "animal = Animal(\"Cat\", 3)\n",
    "print(animal.display_info())  # Output: Species: Cat, Age: 3\n",
    "\n",
    "dog = Dog(\"Buddy\", \"Golden Retriever\", 5)\n",
    "print(dog.display_info())      # Output: Species: Dog, Age: 5, Name: Buddy, Breed: Golden Retriever"
   ]
  },
  {
   "cell_type": "markdown",
   "id": "f6f03093-23e9-403f-bbbe-27e060618317",
   "metadata": {},
   "source": [
    "<b>[Q-37] What is abstraction in Python? How is it implemented?"
   ]
  },
  {
   "cell_type": "markdown",
   "id": "d146b804-c7c5-49a1-a979-cd9fa9d82b13",
   "metadata": {},
   "source": [
    "Abstraction in Python is a core concept of object-oriented programming (OOP) that allows for simplifying complex systems by hiding unnecessary details and exposing only the essential features. This helps manage complexity by breaking down a system into smaller, more manageable parts.\n",
    "Key Features of Abstraction\n",
    "\n",
    "<b>1. Hiding Implementation Details\n",
    "\n",
    "Abstraction focuses on what an object does rather than how it does it. This means that users interact with an object through a defined interface without needing to understand the underlying implementation.\n",
    "\n",
    "<b>2. Abstract Classes and Methods\n",
    "\n",
    "In Python, abstraction is implemented using abstract classes and methods. An abstract class cannot be instantiated and is meant to be subclassed. It can contain abstract methods, which are declared but not implemented in the abstract class itself. Subclasses are responsible for providing concrete implementations of these abstract methods.\n",
    "\n",
    "<b>3. Using the abc Module\n",
    "\n",
    "To create abstract classes in Python, you typically use the abc (Abstract Base Classes) module. This module provides the necessary tools to define abstract classes and methods."
   ]
  },
  {
   "cell_type": "code",
   "execution_count": 74,
   "id": "ff9c44e9-57f6-4c6c-8cce-e2b1974cda6a",
   "metadata": {},
   "outputs": [
    {
     "name": "stdout",
     "output_type": "stream",
     "text": [
      "Woof!\n",
      "Animal moves\n"
     ]
    }
   ],
   "source": [
    "from abc import ABC, abstractmethod\n",
    "\n",
    "class Animal(ABC):\n",
    "    @abstractmethod\n",
    "    def make_sound(self):\n",
    "        pass  # Abstract method, no implementation here\n",
    "\n",
    "    def move(self):\n",
    "        print(\"Animal moves\")\n",
    "\n",
    "class Dog(Animal):\n",
    "    def make_sound(self):\n",
    "        print(\"Woof!\")  # Concrete implementation of the abstract method\n",
    "\n",
    "# Creating an instance of Dog\n",
    "dog = Dog()\n",
    "\n",
    "# Calling methods\n",
    "dog.make_sound()  # Outputs: Woof!\n",
    "dog.move()        # Outputs: Animal moves\n"
   ]
  },
  {
   "cell_type": "markdown",
   "id": "b17b2163-a2a3-4501-a01f-c6732351f017",
   "metadata": {},
   "source": [
    "<b>[Q-38]  Explain the importance of abstraction in object-oriented programming."
   ]
  },
  {
   "cell_type": "markdown",
   "id": "d8cafd34-289e-4eef-a13e-eb4e3eca6c23",
   "metadata": {},
   "source": [
    "Abstraction is a fundamental principle in object-oriented programming (OOP) that plays a crucial role in managing complexity and enhancing code maintainability. Here are the key points highlighting the importance of abstraction in OOP:\n",
    "\n",
    "<b>1. Simplification of Complex Systems\n",
    "\n",
    "Abstraction allows developers to hide complex implementation details and expose only the essential features of an object. This simplification makes it easier to understand and interact with complex systems without getting bogged down by unnecessary details.\n",
    "\n",
    "<b>2. Enhanced Code Reusability\n",
    "\n",
    "By defining abstract classes and methods, abstraction promotes code reuse. Developers can create a base class with common functionality and then extend it through subclasses, which can implement specific behaviors. This reduces redundancy and encourages a modular design.\n",
    "\n",
    "<b>3. Improved Maintainability\n",
    "\n",
    "With abstraction, changes to the implementation of a class do not affect other parts of the program that use the class, as long as the interface remains consistent. This separation between interface and implementation makes it easier to maintain and update code.\n",
    "\n",
    "<b>4. Facilitates Polymorphism\n",
    "\n",
    "Abstraction is closely tied to polymorphism, allowing different subclasses to be treated as instances of their parent class. This enables developers to write more generic and flexible code, where functions can operate on objects of different types through a common interface.\n",
    "\n",
    "<b>5. Encourages a Clear Design\n",
    "\n",
    "Using abstract classes helps in defining clear interfaces for classes, which leads to better design practices. It forces developers to think about what methods need to be implemented and how different classes will interact with each other."
   ]
  },
  {
   "cell_type": "markdown",
   "id": "15274aa6-f71d-44ad-a38c-35b6d6e39a68",
   "metadata": {},
   "source": [
    "<b>[Q-39] How are abstract methods different from regular methods in Python"
   ]
  },
  {
   "cell_type": "markdown",
   "id": "964903b9-a13c-44ec-bff3-45fa773eff31",
   "metadata": {},
   "source": [
    "<table border=\"1\">\n",
    "    <tr>\n",
    "        <th>Feature</th>\n",
    "        <th>Abstract Methods</th>\n",
    "        <th>Regular Methods</th>\n",
    "    </tr>\n",
    "    <tr>\n",
    "        <td>Definition</td>\n",
    "        <td>Declared without implementation</td>\n",
    "        <td>Declared with implementation</td>\n",
    "    </tr>\n",
    "    <tr>\n",
    "        <td>Purpose</td>\n",
    "        <td>Enforces interface for subclasses</td>\n",
    "        <td>Defines behavior for instances</td>\n",
    "    </tr>\n",
    "    <tr>\n",
    "        <td>Declaration</td>\n",
    "        <td>Uses @abstractmethod decorator</td>\n",
    "        <td>Standard method definition</td>\n",
    "    </tr>\n",
    "    <tr>\n",
    "        <td>Instantiation</td>\n",
    "        <td>Cannot instantiate abstract classes</td>\n",
    "        <td>Can instantiate classes directly</td>\n",
    "    </tr>\n",
    "    <tr>\n",
    "        <td>Implementation</td>\n",
    "        <td>Must be implemented in subclasses</td>\n",
    "        <td>Can have direct implementations</td>\n",
    "    </tr>\n",
    "</table>\n"
   ]
  },
  {
   "cell_type": "markdown",
   "id": "13fec12b-2983-4d29-9653-6d9c84e1af24",
   "metadata": {},
   "source": [
    "<b> Abstract Methods"
   ]
  },
  {
   "cell_type": "code",
   "execution_count": 82,
   "id": "37ee7f1b-6efc-4504-b776-273365bd52e2",
   "metadata": {},
   "outputs": [],
   "source": [
    "from abc import ABC, abstractmethod\n",
    "\n",
    "class Animal(ABC):\n",
    "    @abstractmethod\n",
    "    def make_sound(self):\n",
    "        pass  # No implementation here\n",
    "\n",
    "class Dog(Animal):\n",
    "    def make_sound(self):\n",
    "        print(\"Woof!\")  # Concrete implementation\n"
   ]
  },
  {
   "cell_type": "markdown",
   "id": "f9aaa523-e1d0-4567-89ce-88175b6f115c",
   "metadata": {},
   "source": [
    "<b> Regular Methods"
   ]
  },
  {
   "cell_type": "code",
   "execution_count": 84,
   "id": "5fcb9ce0-6e98-46c2-8838-acf46bb4935a",
   "metadata": {},
   "outputs": [],
   "source": [
    "class Animal:\n",
    "    def make_sound(self):\n",
    "        print(\"Generic animal sound\")  # Implementation provided\n",
    "\n",
    "class Dog(Animal):\n",
    "    def make_sound(self):\n",
    "        print(\"Woof!\")  # Overriding the regular method\n"
   ]
  },
  {
   "cell_type": "markdown",
   "id": "25261c32-ec95-4698-9012-9ebe372c76a4",
   "metadata": {},
   "source": [
    "<b>[Q-40] How can you achieve abstraction using interfaces in Python"
   ]
  },
  {
   "cell_type": "markdown",
   "id": "0f9ee532-5a05-4e2a-938a-e34a56fb7857",
   "metadata": {},
   "source": [
    "Abstraction in Python can be achieved using interfaces, which are typically implemented through abstract classes. Here’s how abstraction using interfaces works and how it can be implemented in Python:\n",
    "\n",
    "<b>Understanding Abstraction with Interfaces\n",
    "\n",
    "<b>Definition of Interfaces</b>: In Python, interfaces are often represented by abstract classes that define a set of methods that must be implemented by any concrete subclass. These methods provide a high-level interface for interacting with objects without exposing the underlying implementation details.\n",
    "\n",
    "<b>Purpose</b>: The primary purpose of using interfaces is to enforce a contract for subclasses. Any class that inherits from an abstract class must implement the abstract methods defined in that class, ensuring that all subclasses adhere to a consistent interface.\n",
    "Benefits:\n",
    "\n",
    "<b>Code Reusability</b>: By defining common methods in an abstract class, you can reuse code across multiple subclasses.\n",
    "Flexibility: Interfaces allow different classes to be treated uniformly, enabling polymorphism.\n",
    "\n",
    "<b>Maintainability</b>: Changes to the interface can be managed centrally, making it easier to maintain and update code."
   ]
  },
  {
   "cell_type": "code",
   "execution_count": 95,
   "id": "691c7750-c57b-43e8-87fe-b8cf6df62fcd",
   "metadata": {},
   "outputs": [
    {
     "name": "stdout",
     "output_type": "stream",
     "text": [
      "Area: 78.5, Perimeter: 31.400000000000002\n",
      "Area: 24, Perimeter: 20\n"
     ]
    }
   ],
   "source": [
    "from abc import ABC, abstractmethod\n",
    "\n",
    "# Defining an abstract class (interface)\n",
    "class Shape(ABC):\n",
    "    @abstractmethod\n",
    "    def area(self):\n",
    "        pass  # Abstract method with no implementation\n",
    "\n",
    "    @abstractmethod\n",
    "    def perimeter(self):\n",
    "        pass  # Another abstract method\n",
    "\n",
    "# Concrete class implementing the interface\n",
    "class Circle(Shape):\n",
    "    def __init__(self, radius):\n",
    "        self.radius = radius\n",
    "\n",
    "    def area(self):\n",
    "        return 3.14 * self.radius * self.radius  # Implementation of area\n",
    "\n",
    "    def perimeter(self):\n",
    "        return 2 * 3.14 * self.radius  # Implementation of perimeter\n",
    "\n",
    "# Another concrete class implementing the interface\n",
    "class Rectangle(Shape):\n",
    "    def __init__(self, width, height):\n",
    "        self.width = width\n",
    "        self.height = height\n",
    "\n",
    "    def area(self):\n",
    "        return self.width * self.height  # Implementation of area\n",
    "\n",
    "    def perimeter(self):\n",
    "        return 2 * (self.width + self.height)  # Implementation of perimeter\n",
    "\n",
    "# Using the classes\n",
    "shapes = [Circle(5), Rectangle(4, 6)]\n",
    "\n",
    "for shape in shapes:\n",
    "    print(f\"Area: {shape.area()}, Perimeter: {shape.perimeter()}\")\n"
   ]
  },
  {
   "cell_type": "markdown",
   "id": "8d180c40-b188-4464-9803-9bccc958fc29",
   "metadata": {},
   "source": [
    "<b>[Q-41] Can you provide an example of how abstraction can be utilized to create a common interface for a group\n",
    "of related classes in Python"
   ]
  },
  {
   "cell_type": "code",
   "execution_count": 99,
   "id": "3a5d05df-6b1d-4e14-b51c-82d00f27da6e",
   "metadata": {},
   "outputs": [
    {
     "name": "stdout",
     "output_type": "stream",
     "text": [
      "Car is starting.\n",
      "Car is stopping.\n",
      "Bike is starting.\n",
      "Bike is stopping.\n"
     ]
    }
   ],
   "source": [
    "from abc import ABC, abstractmethod\n",
    "\n",
    "# Abstract class defining the interface\n",
    "class Vehicle(ABC):\n",
    "    @abstractmethod\n",
    "    def start(self):\n",
    "        pass  # Abstract method without implementation\n",
    "\n",
    "    @abstractmethod\n",
    "    def stop(self):\n",
    "        pass  # Abstract method without implementation\n",
    "\n",
    "# Concrete class implementing the Vehicle interface\n",
    "class Car(Vehicle):\n",
    "    def start(self):\n",
    "        print(\"Car is starting.\")\n",
    "\n",
    "    def stop(self):\n",
    "        print(\"Car is stopping.\")\n",
    "\n",
    "# Another concrete class implementing the Vehicle interface\n",
    "class Bike(Vehicle):\n",
    "    def start(self):\n",
    "        print(\"Bike is starting.\")\n",
    "\n",
    "    def stop(self):\n",
    "        print(\"Bike is stopping.\")\n",
    "\n",
    "# Using the classes\n",
    "def vehicle_operations(vehicle: Vehicle):\n",
    "    vehicle.start()\n",
    "    vehicle.stop()\n",
    "\n",
    "# Creating instances of Car and Bike\n",
    "my_car = Car()\n",
    "my_bike = Bike()\n",
    "\n",
    "# Performing operations on different vehicles\n",
    "vehicle_operations(my_car)  # Outputs: Car is starting. Car is stopping.\n",
    "vehicle_operations(my_bike)  # Outputs: Bike is starting. Bike is stopping.\n"
   ]
  },
  {
   "cell_type": "markdown",
   "id": "0a5f59b2-dd09-4ad8-bd33-d65287349bb2",
   "metadata": {},
   "source": [
    "<b>Explanation:\n",
    "\n",
    "<b>Abstract Class (Vehicle):</b> This class uses the ABC module to define an abstract base class. It contains two abstract methods: start and stop. These methods must be implemented by any subclass that inherits from Vehicle.\n",
    "\n",
    "<b>Concrete Classes (Car and Bike):</b> Both classes inherit from Vehicle and provide specific implementations for the start and stop methods. This allows each vehicle type to define its behavior while adhering to the same interface.\n",
    "\n",
    "<b>Function (vehicle_operations):</b> This function takes a parameter of type Vehicle, demonstrating polymorphism. It can accept any object that implements the Vehicle interface, allowing it to call the start and stop methods on different vehicle types without needing to know their specific implementations."
   ]
  },
  {
   "cell_type": "markdown",
   "id": "9fce0bfb-5083-4aec-9d37-a2527b726f51",
   "metadata": {},
   "source": [
    "<b>[Q-42]  How does Python achieve polymorphism through method overriding"
   ]
  },
  {
   "cell_type": "markdown",
   "id": "f0cdbd02-7303-42d2-a410-d3f08cf14ec0",
   "metadata": {},
   "source": [
    "Python achieves polymorphism primarily through method overriding, which allows subclasses to provide specific implementations of methods that are defined in their parent classes. This capability enables objects of different classes to be treated as objects of a common superclass, allowing for flexible and dynamic method invocation at runtime.\n",
    "\n",
    "<b>How Method Overriding Facilitates Polymorphism\n",
    "\n",
    "<b>Common Interface:</b> When a subclass overrides a method from its superclass, it maintains the same method signature (name and parameters). This creates a common interface that can be used to interact with different subclasses uniformly.\n",
    "\n",
    "<b>Dynamic Dispatch:</b> During runtime, when a method is called on an object, Python determines which method implementation to execute based on the actual object type, not the reference type. This is known as dynamic dispatch or late binding."
   ]
  },
  {
   "cell_type": "markdown",
   "id": "d69cd45e-d0e3-4e4d-8c07-776befccb518",
   "metadata": {},
   "source": [
    "<b>[Q-43] Define a base class with a method and a subclass that overrides the method."
   ]
  },
  {
   "cell_type": "code",
   "execution_count": 106,
   "id": "c25b1c6b-e6cf-42cc-a797-cfe309c9c932",
   "metadata": {},
   "outputs": [
    {
     "name": "stdout",
     "output_type": "stream",
     "text": [
      "Generic animal sound\n",
      "Woof!\n"
     ]
    }
   ],
   "source": [
    "# Base class\n",
    "class Animal:\n",
    "    def make_sound(self):\n",
    "        print(\"Generic animal sound\")\n",
    "\n",
    "# Subclass that overrides the method\n",
    "class Dog(Animal):\n",
    "    def make_sound(self):\n",
    "        print(\"Woof!\")\n",
    "\n",
    "# Creating instances\n",
    "generic_animal = Animal()\n",
    "dog = Dog()\n",
    "\n",
    "# Calling the methods\n",
    "generic_animal.make_sound()  # Outputs: Generic animal sound\n",
    "dog.make_sound()              # Outputs: Woof!\n"
   ]
  },
  {
   "cell_type": "markdown",
   "id": "d12ef7be-21cc-4e1e-82f7-8e10915810bf",
   "metadata": {},
   "source": [
    "<b>[Q-44]  Define a base class and multiple subclasses with overridden methods"
   ]
  },
  {
   "cell_type": "code",
   "execution_count": 109,
   "id": "804d73fe-9e65-4e29-b699-5b251a132538",
   "metadata": {},
   "outputs": [
    {
     "name": "stdout",
     "output_type": "stream",
     "text": [
      "Woof!\n",
      "Meow!\n",
      "Moo!\n"
     ]
    }
   ],
   "source": [
    "# Base class\n",
    "class Animal:\n",
    "    def make_sound(self):\n",
    "        print(\"This animal makes a sound.\")\n",
    "\n",
    "# Subclass 1\n",
    "class Dog(Animal):\n",
    "    def make_sound(self):\n",
    "        print(\"Woof!\")\n",
    "\n",
    "# Subclass 2\n",
    "class Cat(Animal):\n",
    "    def make_sound(self):\n",
    "        print(\"Meow!\")\n",
    "\n",
    "# Subclass 3\n",
    "class Cow(Animal):\n",
    "    def make_sound(self):\n",
    "        print(\"Moo!\")\n",
    "\n",
    "# Creating instances of each subclass\n",
    "dog = Dog()\n",
    "cat = Cat()\n",
    "cow = Cow()\n",
    "\n",
    "# Calling the overridden methods\n",
    "dog.make_sound()  # Outputs: Woof!\n",
    "cat.make_sound()  # Outputs: Meow!\n",
    "cow.make_sound()  # Outputs: Moo!\n"
   ]
  },
  {
   "cell_type": "markdown",
   "id": "853665ce-bce4-45ef-9881-dbfaa9b40d36",
   "metadata": {},
   "source": [
    "<b>[Q-45] How does polymorphism improve code readability and reusability?"
   ]
  },
  {
   "cell_type": "markdown",
   "id": "0b3592a5-ceb6-44dd-bcb1-eccf2292e75a",
   "metadata": {},
   "source": [
    "<b>1. Unified Interface\n",
    "\n",
    "Polymorphism allows different classes to be treated as instances of the same class through a common interface. This means that methods can be called on objects without needing to know their specific types. For example, if multiple classes implement a method with the same name, you can call that method on any object of those classes, improving code readability by reducing the need for type checks.\n",
    "\n",
    "<b>2. Code Reusability\n",
    "\n",
    "With polymorphism, you can write more generic and reusable code. Functions or methods can operate on objects of different classes as long as they share a common interface. This eliminates the need for duplicate code for each class type, allowing developers to implement functionality once and reuse it across different contexts.\n",
    "\n",
    "<b>3. Simplified Maintenance\n",
    "\n",
    "When changes are made to the base class or interface, all subclasses automatically inherit these changes. This reduces the risk of errors and inconsistencies that can arise from having multiple implementations of similar functionality spread across different classes. As a result, maintaining and updating code becomes easier and less error-prone.\n",
    "\n",
    "<b>4. Dynamic Method Resolution\n",
    "\n",
    "Polymorphism enables dynamic method resolution, meaning that the method invoked is determined at runtime based on the object type rather than the reference type. This leads to more flexible and adaptable code, allowing for changes in behavior without modifying existing code structures."
   ]
  },
  {
   "cell_type": "markdown",
   "id": "53931dda-ecd1-4220-a615-9fcbf8cb0814",
   "metadata": {},
   "source": [
    "<b>[Q-46] Describe how Python supports polymorphism with duck typing"
   ]
  },
  {
   "cell_type": "markdown",
   "id": "1fb7f65e-c2ca-46d4-afbb-e7c4cd085bda",
   "metadata": {},
   "source": [
    "Python supports polymorphism through a concept known as duck typing, which is a flexible and dynamic way of implementing polymorphism based on the behavior of objects rather than their explicit types. The phrase \"If it looks like a duck and quacks like a duck, it's probably a duck\" captures the essence of duck typing. \n",
    "Here’s how it works and its implications in Python:\n",
    "\n",
    "Key Features of Duck Typing in Python\n",
    "\n",
    "<b>Behavior Over Type:</b> In duck typing, the focus is on whether an object can perform the required behavior (methods or properties) rather than what type the object is. As long as an object implements the necessary methods, it can be used interchangeably with other objects that provide the same interface.\n",
    "\n",
    "<b>Flexibility:</b> Duck typing allows for greater flexibility in code. You can pass different types of objects to functions or methods as long as they implement the required behavior. This reduces the need for strict type checking and allows for more generic programming.\n",
    "\n",
    "<b>Simplified Code:</b> Since Python does not enforce type constraints, you can write simpler and more concise code. This leads to easier maintenance and enhances readability since you don't have to deal with complex type hierarchies."
   ]
  },
  {
   "cell_type": "code",
   "execution_count": 117,
   "id": "6b837cc7-ee30-4352-9b70-89d2add98094",
   "metadata": {},
   "outputs": [
    {
     "name": "stdout",
     "output_type": "stream",
     "text": [
      "Flapping wings to fly!\n",
      "Using engines to soar through the sky!\n"
     ]
    }
   ],
   "source": [
    "class Bird:\n",
    "    def fly(self):\n",
    "        print(\"Flapping wings to fly!\")\n",
    "\n",
    "class Airplane:\n",
    "    def fly(self):\n",
    "        print(\"Using engines to soar through the sky!\")\n",
    "\n",
    "def let_it_fly(flyable_object):\n",
    "    flyable_object.fly()  # Calls the fly method\n",
    "\n",
    "# Creating instances\n",
    "sparrow = Bird()\n",
    "boeing = Airplane()\n",
    "\n",
    "# Using duck typing\n",
    "let_it_fly(sparrow)  # Outputs: Flapping wings to fly!\n",
    "let_it_fly(boeing)   # Outputs: Using engines to soar through the sky!\n"
   ]
  },
  {
   "cell_type": "markdown",
   "id": "8c6a932d-bbf1-4018-b849-0946d9fba6a0",
   "metadata": {},
   "source": [
    "<b>[Q-47] How do you achieve encapsulation in Python?"
   ]
  },
  {
   "cell_type": "markdown",
   "id": "aaca5c17-b625-4df5-9bd3-4712f041c9f0",
   "metadata": {},
   "source": [
    "Encapsulation in Python is a fundamental concept of object-oriented programming that restricts direct access to some of an object's attributes and methods. This is done to protect the internal state of the object and to promote modularity and maintainability. Here’s how encapsulation can be achieved in Python:\n",
    "\n",
    "Key Concepts of Encapsulation\n",
    "\n",
    "<b>Private Attributes and Methods:</b> In Python, you can define private attributes and methods by prefixing their names with double underscores ( __ ). This makes them inaccessible from outside the class, effectively hiding them from external access.\n",
    "\n",
    "<b>Public Attributes and Methods:</b> Attributes and methods without any leading underscores are considered public and can be accessed from outside the class. These are intended for use by other classes or functions.\n",
    "\n",
    "<b>Protected Attributes and Methods:</b> Attributes and methods prefixed with a single underscore (_) are treated as protected, indicating that they are intended for internal use within the class and its subclasses. While they can still be accessed from outside the class, this naming convention signals to developers that these members should not be accessed directly.\n",
    "\n",
    "<b>Getter and Setter Methods:</b> To control access to private attributes, you can define getter and setter methods. Getters allow you to retrieve the value of an attribute, while setters enable you to modify it. This provides a controlled way to access and modify private data."
   ]
  },
  {
   "cell_type": "markdown",
   "id": "6212b2a1-d515-4c12-b9db-073f4cb45ab1",
   "metadata": {},
   "source": [
    "<b>[Q-48] Can encapsulation be bypassed in Python? If so, how"
   ]
  },
  {
   "cell_type": "markdown",
   "id": "b022e2a5-889d-48a4-8ca7-3678c8a5bd11",
   "metadata": {},
   "source": [
    "Yes, encapsulation can be bypassed in Python, primarily due to its dynamic nature and the way it handles access control. Here are some ways encapsulation can be circumvented:\n",
    "\n",
    "<b>1. Name Mangling\n",
    "\n",
    "Python uses name mangling to protect private attributes (those prefixed with double underscores, e.g., __attribute). However, this is not true encapsulation. Name mangling changes the name of the attribute in a way that makes it harder to access, but it does not make it impossible. For example:"
   ]
  },
  {
   "cell_type": "code",
   "execution_count": 127,
   "id": "28b547cc-01c2-41f6-9632-62dbc712e639",
   "metadata": {},
   "outputs": [
    {
     "name": "stdout",
     "output_type": "stream",
     "text": [
      "I am private\n"
     ]
    }
   ],
   "source": [
    "class Example:\n",
    "    def __init__(self):\n",
    "        self.__private_var = \"I am private\"\n",
    "\n",
    "# Creating an instance\n",
    "obj = Example()\n",
    "\n",
    "# Accessing the mangled name\n",
    "print(obj._Example__private_var)  # Outputs: I am private\n"
   ]
  },
  {
   "cell_type": "markdown",
   "id": "2e81b5a5-9647-4021-b8de-710d49aa4013",
   "metadata": {},
   "source": [
    "In this case, __private_var is not directly accessible, but you can still access it using its mangled name.\n",
    "\n",
    "<b>2. Protected Attributes\n",
    "\n",
    "Attributes prefixed with a single underscore (e.g., _attribute) are considered protected and are intended for internal use within a class and its subclasses. However, they can still be accessed from outside the class:"
   ]
  },
  {
   "cell_type": "code",
   "execution_count": 130,
   "id": "210ff0f4-cadd-4856-9344-ae6f488a83e6",
   "metadata": {},
   "outputs": [
    {
     "name": "stdout",
     "output_type": "stream",
     "text": [
      "I am protected\n"
     ]
    }
   ],
   "source": [
    "class Base:\n",
    "    def __init__(self):\n",
    "        self._protected_var = \"I am protected\"\n",
    "\n",
    "class Derived(Base):\n",
    "    def access_protected(self):\n",
    "        return self._protected_var\n",
    "\n",
    "# Creating an instance\n",
    "obj = Base()\n",
    "print(obj._protected_var)  # Outputs: I am protected\n"
   ]
  },
  {
   "cell_type": "markdown",
   "id": "4bf44138-ab04-479c-9ba2-4af017be7a51",
   "metadata": {},
   "source": [
    "<b>3. Public Attributes\n",
    "\n",
    "Public attributes (those without any leading underscores) are always accessible from outside the class. This means that encapsulation is inherently limited by how attributes are defined:"
   ]
  },
  {
   "cell_type": "code",
   "execution_count": 133,
   "id": "d7807ff3-9259-46fb-9811-ae6e48219979",
   "metadata": {},
   "outputs": [
    {
     "name": "stdout",
     "output_type": "stream",
     "text": [
      "I am public\n"
     ]
    }
   ],
   "source": [
    "class PublicExample:\n",
    "    def __init__(self):\n",
    "        self.public_var = \"I am public\"\n",
    "\n",
    "# Creating an instance\n",
    "obj = PublicExample()\n",
    "print(obj.public_var)  # Outputs: I am public\n"
   ]
  },
  {
   "cell_type": "markdown",
   "id": "19f0217d-a057-421f-8eef-6f1bbd3c7561",
   "metadata": {},
   "source": [
    "<b>Conclusion\n",
    "\n",
    "While Python provides mechanisms for encapsulation through private and protected attributes, these mechanisms can be bypassed due to the language's dynamic nature and design philosophy. Name mangling and the convention of using underscores are more about signaling intent rather than enforcing strict access control. Therefore, developers must adhere to these conventions and use them responsibly to maintain encapsulation principles in their code.\n"
   ]
  },
  {
   "cell_type": "markdown",
   "id": "62797e5a-9852-496e-8bfd-e6658c7a4bfa",
   "metadata": {},
   "source": [
    "<b>[Q-49] Implement a class BankAccount with a private balance attribute. Include methods to deposit, withdraw,\n",
    "and check the balance"
   ]
  },
  {
   "cell_type": "code",
   "execution_count": 137,
   "id": "7d9e2af7-97ca-44fd-b52e-a31485912111",
   "metadata": {},
   "outputs": [
    {
     "name": "stdout",
     "output_type": "stream",
     "text": [
      "Deposited: 500. New balance: 1500\n",
      "Withdrew: 200. New balance: 1300\n",
      "Current Balance: 1300\n"
     ]
    }
   ],
   "source": [
    "class BankAccount:\n",
    "    def __init__(self, initial_balance=0):\n",
    "        self.__balance = initial_balance  # Private attribute\n",
    "\n",
    "    def deposit(self, amount):\n",
    "        if amount > 0:\n",
    "            self.__balance += amount\n",
    "            print(f\"Deposited: {amount}. New balance: {self.__balance}\")\n",
    "        else:\n",
    "            print(\"Deposit amount must be positive.\")\n",
    "\n",
    "    def withdraw(self, amount):\n",
    "        if 0 < amount <= self.__balance:\n",
    "            self.__balance -= amount\n",
    "            print(f\"Withdrew: {amount}. New balance: {self.__balance}\")\n",
    "        else:\n",
    "            print(\"Invalid withdrawal amount.\")\n",
    "\n",
    "    def check_balance(self):  # Method to check the balance\n",
    "        return self.__balance\n",
    "\n",
    "# Example usage\n",
    "account = BankAccount(1000)  # Create an account with an initial balance of 1000\n",
    "\n",
    "account.deposit(500)          # Outputs: Deposited: 500. New balance: 1500\n",
    "account.withdraw(200)         # Outputs: Withdrew: 200. New balance: 1300\n",
    "print(\"Current Balance:\", account.check_balance())  # Outputs: Current Balance: 1300\n",
    "\n",
    "# Trying to access the private attribute directly will raise an error\n",
    "# print(account.__balance)   # AttributeError\n"
   ]
  },
  {
   "cell_type": "markdown",
   "id": "899f5b38-76f4-40f5-ac22-04882be6b149",
   "metadata": {},
   "source": [
    " <b>[Q-50] Develop a Person class with private attributes name and email, and methods to set and get the email."
   ]
  },
  {
   "cell_type": "code",
   "execution_count": 140,
   "id": "e7895054-8c8b-4c67-8cdb-0d38b3f889dc",
   "metadata": {},
   "outputs": [
    {
     "name": "stdout",
     "output_type": "stream",
     "text": [
      "Initial Email: alice@example.com\n",
      "Email updated to: alice.new@example.com\n",
      "Invalid email format. Please include '@'.\n",
      "Updated Email: alice.new@example.com\n",
      "Name: Alice\n"
     ]
    }
   ],
   "source": [
    "class Person:\n",
    "    def __init__(self, name, email):\n",
    "        self.__name = name          # Private attribute\n",
    "        self.__email = email        # Private attribute\n",
    "\n",
    "    def set_email(self, email):\n",
    "        if \"@\" in email:            # Simple validation for email format\n",
    "            self.__email = email\n",
    "            print(f\"Email updated to: {self.__email}\")\n",
    "        else:\n",
    "            print(\"Invalid email format. Please include '@'.\")\n",
    "\n",
    "    def get_email(self):\n",
    "        return self.__email         # Getter method for email\n",
    "\n",
    "    def get_name(self):\n",
    "        return self.__name          # Getter method for name\n",
    "\n",
    "# Example usage\n",
    "person = Person(\"Alice\", \"alice@example.com\")\n",
    "\n",
    "# Getting the initial email\n",
    "print(\"Initial Email:\", person.get_email())  # Outputs: Initial Email: alice@example.com\n",
    "\n",
    "# Updating the email\n",
    "person.set_email(\"alice.new@example.com\")      # Outputs: Email updated to: alice.new@example.com\n",
    "\n",
    "# Trying to set an invalid email\n",
    "person.set_email(\"invalid-email\")              # Outputs: Invalid email format. Please include '@'.\n",
    "\n",
    "# Getting the updated email\n",
    "print(\"Updated Email:\", person.get_email())    # Outputs: Updated Email: alice.new@example.com\n",
    "\n",
    "# Getting the name\n",
    "print(\"Name:\", person.get_name())               # Outputs: Name: Alice\n"
   ]
  },
  {
   "cell_type": "markdown",
   "id": "843c53c1-f36d-41e3-8b37-a397f2da39ca",
   "metadata": {},
   "source": [
    "<b>[Q-51] Why is encapsulation considered a pillar of object-oriented programming (OOP)."
   ]
  },
  {
   "cell_type": "markdown",
   "id": "25d2848e-9efe-4da2-8e7c-ef2a6102a233",
   "metadata": {},
   "source": [
    "Encapsulation is a fundamental concept in object-oriented programming (OOP) that plays a crucial role in enhancing software development practices. Here’s an overview of why encapsulation is considered one of the pillars of OOP.\n",
    "Definition of Encapsulation\n",
    "Encapsulation refers to the bundling of data (attributes) and methods (functions) that operate on the data into a single unit, typically a class. This concept allows for the internal representation of an object to be hidden from the outside, exposing only what is necessary through defined interfaces.\n",
    "Importance of Encapsulation\n",
    "\n",
    "<b>1. Data Hiding:</b>\n",
    "Encapsulation protects an object's state by restricting direct access to its attributes. This is achieved through access modifiers (like private and protected), which prevent external entities from modifying the internal state directly. For example, in Python, attributes can be made private using double underscores, ensuring that they are not accessible from outside the class.\n",
    "\n",
    "<b>2. Controlled Access:</b>\n",
    "By providing public methods (getters and setters), encapsulation allows controlled access to an object's properties. This means that any changes to the internal state can be validated or processed before being applied, thus maintaining integrity and consistency.\n",
    "\n",
    "<b>3. Improved Maintainability:</b>\n",
    "Encapsulated code is easier to maintain and modify. Since the internal workings of a class are hidden, changes can be made without affecting other parts of the program that rely on the class's public interface. This separation between interface and implementation leads to more robust code.\n",
    "\n",
    "<b>4. Enhanced Flexibility and Reusability:</b>\n",
    "Classes can be reused in different contexts without needing to understand their internal workings. This promotes code reuse and helps in building modular applications where components can be easily replaced or upgraded.\n",
    "\n",
    "<b>5. Support for Abstraction:</b>\n",
    "Encapsulation supports abstraction by allowing programmers to focus on high-level functionalities without needing to understand low-level details. This aligns with OOP principles, where complex systems can be modeled as collections of interacting objects"
   ]
  },
  {
   "cell_type": "markdown",
   "id": "a0bd962d-c1d3-4b92-8a94-eca29f46e72d",
   "metadata": {},
   "source": [
    "<b>[Q-52] Create a decorator in Python that adds functionality to a simple function by printing a message before\n",
    "and after the function execution."
   ]
  },
  {
   "cell_type": "code",
   "execution_count": 11,
   "id": "9d15d0cf-8469-4d0f-88de-d8677c1646e8",
   "metadata": {},
   "outputs": [
    {
     "name": "stdout",
     "output_type": "stream",
     "text": [
      "Before the function execution.\n",
      "This is the simple function.\n",
      "After the function execution.\n"
     ]
    }
   ],
   "source": [
    "def my_decorator(func):\n",
    "    def wrapper(*args, **kwargs):\n",
    "        print(\"Before the function execution.\")\n",
    "        result = func(*args, **kwargs)\n",
    "        print(\"After the function execution.\")\n",
    "        return result\n",
    "    return wrapper\n",
    "\n",
    "@my_decorator\n",
    "def simple_function():\n",
    "    print(\"This is the simple function.\")\n",
    "\n",
    "# Example usage\n",
    "simple_function()\n"
   ]
  },
  {
   "cell_type": "markdown",
   "id": "34fb195a-c6c8-44a0-a9f0-7f082f1f280a",
   "metadata": {},
   "source": [
    "<b>[Q-53]  Modify the decorator to accept arguments and print the function name along with the message."
   ]
  },
  {
   "cell_type": "code",
   "execution_count": 3,
   "id": "9e7fc434-cb28-43b3-bee8-392f62d3e98f",
   "metadata": {},
   "outputs": [
    {
     "name": "stdout",
     "output_type": "stream",
     "text": [
      "Function 'my_function' is called. Message: Hello, this is a custom message!\n",
      "10\n"
     ]
    }
   ],
   "source": [
    "def my_decorator(message):\n",
    "    def decorator(func):\n",
    "        def wrapper(*args, **kwargs):\n",
    "            print(f\"Function '{func.__name__}' is called. Message: {message}\")\n",
    "            return func(*args, **kwargs)\n",
    "        return wrapper\n",
    "    return decorator\n",
    "\n",
    "@my_decorator(\"Hello, this is a custom message!\")\n",
    "def my_function(x):\n",
    "    return x * 2\n",
    "\n",
    "# Calling the decorated function\n",
    "result = my_function(5)\n",
    "print(result)\n"
   ]
  },
  {
   "cell_type": "markdown",
   "id": "ed823877-143d-44bf-b2c5-bbd7eab7301e",
   "metadata": {},
   "source": [
    "<b>[Q-54] Create two decorators, and apply them to a single function. Ensure that they execute in the order they are\n",
    "applied"
   ]
  },
  {
   "cell_type": "code",
   "execution_count": 6,
   "id": "47c959b0-53a4-47bd-b4f2-5e0fd961ef9d",
   "metadata": {},
   "outputs": [
    {
     "name": "stdout",
     "output_type": "stream",
     "text": [
      "Decorator One: Before calling the function.\n",
      "Decorator Two: Before calling the function.\n",
      "Function is called with argument: 5\n",
      "Decorator Two: After calling the function.\n",
      "Decorator One: After calling the function.\n",
      "Result: 10\n"
     ]
    }
   ],
   "source": [
    "def decorator_one(func):\n",
    "    def wrapper(*args, **kwargs):\n",
    "        print(\"Decorator One: Before calling the function.\")\n",
    "        result = func(*args, **kwargs)\n",
    "        print(\"Decorator One: After calling the function.\")\n",
    "        return result\n",
    "    return wrapper\n",
    "\n",
    "def decorator_two(func):\n",
    "    def wrapper(*args, **kwargs):\n",
    "        print(\"Decorator Two: Before calling the function.\")\n",
    "        result = func(*args, **kwargs)\n",
    "        print(\"Decorator Two: After calling the function.\")\n",
    "        return result\n",
    "    return wrapper\n",
    "\n",
    "@decorator_one\n",
    "@decorator_two\n",
    "def my_function(x):\n",
    "    print(f\"Function is called with argument: {x}\")\n",
    "    return x * 2\n",
    "\n",
    "# Calling the decorated function\n",
    "result = my_function(5)\n",
    "print(\"Result:\", result)\n"
   ]
  },
  {
   "cell_type": "markdown",
   "id": "deddf06c-902a-49b8-afb8-ee0383962c1c",
   "metadata": {},
   "source": [
    "<b>[Q-55] Modify the decorator to accept and pass function arguments to the wrapped function."
   ]
  },
  {
   "cell_type": "code",
   "execution_count": 9,
   "id": "8197c248-bf94-4373-934d-069c3ce8ecec",
   "metadata": {},
   "outputs": [
    {
     "name": "stdout",
     "output_type": "stream",
     "text": [
      "Before calling the function.\n",
      "Function is called with arguments: 5 and 3\n",
      "After calling the function.\n",
      "Result: 8\n"
     ]
    }
   ],
   "source": [
    "def my_decorator(func):\n",
    "    def wrapper(*args, **kwargs):\n",
    "        print(\"Before calling the function.\")\n",
    "        result = func(*args, **kwargs)  # Passes arguments to the wrapped function\n",
    "        print(\"After calling the function.\")\n",
    "        return result\n",
    "    return wrapper\n",
    "\n",
    "@my_decorator\n",
    "def my_function(x, y):\n",
    "    print(f\"Function is called with arguments: {x} and {y}\")\n",
    "    return x + y\n",
    "\n",
    "# Calling the decorated function\n",
    "result = my_function(5, 3)\n",
    "print(\"Result:\", result)\n"
   ]
  },
  {
   "cell_type": "markdown",
   "id": "bfa73cac-7d1f-4581-b4b2-6e31457c8c14",
   "metadata": {},
   "source": [
    "<b>[Q-56] Create a decorator that preserves the metadata of the original function"
   ]
  },
  {
   "cell_type": "code",
   "execution_count": 14,
   "id": "eac04d69-a386-43ce-b5f5-e07238fa4a1a",
   "metadata": {},
   "outputs": [
    {
     "name": "stdout",
     "output_type": "stream",
     "text": [
      "Before calling the function.\n",
      "After calling the function.\n",
      "Function name: my_function\n",
      "Function docstring: This function adds two numbers.\n",
      "Result: 8\n"
     ]
    }
   ],
   "source": [
    "import functools\n",
    "\n",
    "def preserve_metadata(func):\n",
    "    @functools.wraps(func)  # This preserves the metadata of the original function\n",
    "    def wrapper(*args, **kwargs):\n",
    "        print(\"Before calling the function.\")\n",
    "        result = func(*args, **kwargs)  # Call the original function\n",
    "        print(\"After calling the function.\")\n",
    "        return result\n",
    "    return wrapper\n",
    "\n",
    "@preserve_metadata\n",
    "def my_function(x, y):\n",
    "    \"\"\"This function adds two numbers.\"\"\"\n",
    "    return x + y\n",
    "\n",
    "# Calling the decorated function\n",
    "result = my_function(5, 3)\n",
    "\n",
    "# Accessing metadata\n",
    "print(\"Function name:\", my_function.__name__)\n",
    "print(\"Function docstring:\", my_function.__doc__)\n",
    "print(\"Result:\", result)\n"
   ]
  },
  {
   "cell_type": "markdown",
   "id": "785e7aff-a612-49b7-8565-408a4ff21be3",
   "metadata": {},
   "source": [
    "<b>[Q-57] Create a Python class `Calculator` with a static method `add` that takes in two numbers and returns their\n",
    "sum"
   ]
  },
  {
   "cell_type": "code",
   "execution_count": 17,
   "id": "458bc502-4dc6-4b2c-86a3-f1a570396171",
   "metadata": {},
   "outputs": [
    {
     "name": "stdout",
     "output_type": "stream",
     "text": [
      "The sum is: 8\n"
     ]
    }
   ],
   "source": [
    "class Calculator:\n",
    "    @staticmethod\n",
    "    def add(a, b):\n",
    "        \"\"\"Returns the sum of two numbers.\"\"\"\n",
    "        return a + b\n",
    "\n",
    "# Example usage\n",
    "result = Calculator.add(5, 3)\n",
    "print(\"The sum is:\", result)\n"
   ]
  },
  {
   "cell_type": "markdown",
   "id": "58865c59-7d00-4316-9048-673455d12a88",
   "metadata": {},
   "source": [
    "<b>[Q-58] Create a Python class `Employee` with a class `method get_employee_count` that returns the total\n",
    "number of employees created"
   ]
  },
  {
   "cell_type": "code",
   "execution_count": 20,
   "id": "26051368-5208-4f4c-b405-c510c1f1a535",
   "metadata": {},
   "outputs": [
    {
     "name": "stdout",
     "output_type": "stream",
     "text": [
      "Total number of employees: 3\n"
     ]
    }
   ],
   "source": [
    "class Employee:\n",
    "    employee_count = 0  # Class variable to keep track of the number of employees\n",
    "\n",
    "    def __init__(self, name):\n",
    "        self.name = name\n",
    "        Employee.employee_count += 1  # Increment the count whenever a new employee is created\n",
    "\n",
    "    @classmethod\n",
    "    def get_employee_count(cls):\n",
    "        \"\"\"Returns the total number of employees created.\"\"\"\n",
    "        return cls.employee_count\n",
    "\n",
    "# Example usage\n",
    "emp1 = Employee(\"Alice\")\n",
    "emp2 = Employee(\"Bob\")\n",
    "emp3 = Employee(\"Charlie\")\n",
    "\n",
    "# Get the total number of employees\n",
    "total_employees = Employee.get_employee_count()\n",
    "print(\"Total number of employees:\", total_employees)\n"
   ]
  },
  {
   "cell_type": "markdown",
   "id": "94295639-4866-4245-908a-9526fe1bdc6b",
   "metadata": {},
   "source": [
    "<b>[Q-59] Create a Python class `StringFormatter` with a static method `reverse_string` that takes a string as input\n",
    "and returns its reverse"
   ]
  },
  {
   "cell_type": "code",
   "execution_count": 25,
   "id": "33baacdc-831b-4add-9490-ada03bc83c08",
   "metadata": {},
   "outputs": [
    {
     "name": "stdout",
     "output_type": "stream",
     "text": [
      "Reversed string: !inayiaR hsuyA m'I\n"
     ]
    }
   ],
   "source": [
    "class StringFormatter:\n",
    "    @staticmethod\n",
    "    def reverse_string(s):\n",
    "        \"\"\"Returns the reverse of the input string.\"\"\"\n",
    "        return s[::-1]  # Slicing to reverse the string\n",
    "\n",
    "# Example usage\n",
    "input_string = \"I'm Ayush Raiyani!\"\n",
    "reversed_string = StringFormatter.reverse_string(input_string)\n",
    "print(\"Reversed string:\", reversed_string)\n"
   ]
  },
  {
   "cell_type": "markdown",
   "id": "71667710-7889-4baf-90b8-a54601213d94",
   "metadata": {},
   "source": [
    "<b>[Q-60] Create a Python class `Circle` with a class method `calculate_area` that calculates the area of a circle\n",
    "given its radius."
   ]
  },
  {
   "cell_type": "code",
   "execution_count": 28,
   "id": "e7feed8c-13a1-46a6-8aa4-d5a7b77ccac9",
   "metadata": {},
   "outputs": [
    {
     "name": "stdout",
     "output_type": "stream",
     "text": [
      "The area of the circle with radius 5 is: 78.53981633974483\n"
     ]
    }
   ],
   "source": [
    "import math\n",
    "\n",
    "class Circle:\n",
    "    @classmethod\n",
    "    def calculate_area(cls, radius):\n",
    "        \"\"\"Calculates the area of a circle given its radius.\"\"\"\n",
    "        return math.pi * (radius ** 2)  # Area = π * r^2\n",
    "\n",
    "# Example usage\n",
    "radius = 5\n",
    "area = Circle.calculate_area(radius)\n",
    "print(\"The area of the circle with radius\", radius, \"is:\", area)\n"
   ]
  },
  {
   "cell_type": "markdown",
   "id": "ee269156-0c9a-421c-a853-86031e1d8d32",
   "metadata": {},
   "source": [
    "<b>[Q-61] Create a Python class `TemperatureConverter` with a static method `celsius_to_fahrenheit` that converts\n",
    "Celsius to Fahrenheit"
   ]
  },
  {
   "cell_type": "code",
   "execution_count": 31,
   "id": "7abf1c93-f06c-484d-8b14-3abb14f53837",
   "metadata": {},
   "outputs": [
    {
     "name": "stdout",
     "output_type": "stream",
     "text": [
      "25°C is equal to 77.0°F\n"
     ]
    }
   ],
   "source": [
    "class TemperatureConverter:\n",
    "    @staticmethod\n",
    "    def celsius_to_fahrenheit(celsius):\n",
    "        \"\"\"Converts Celsius to Fahrenheit.\"\"\"\n",
    "        return (celsius * 9/5) + 32  # Conversion formula\n",
    "\n",
    "# Example usage\n",
    "celsius_temp = 25\n",
    "fahrenheit_temp = TemperatureConverter.celsius_to_fahrenheit(celsius_temp)\n",
    "print(f\"{celsius_temp}°C is equal to {fahrenheit_temp}°F\")\n"
   ]
  },
  {
   "cell_type": "markdown",
   "id": "e658023f-9c45-4620-beb8-acff4749d5de",
   "metadata": {},
   "source": [
    "<b>[Q-62] What is the purpose of the __str__() method in Python classes? Provide an example."
   ]
  },
  {
   "cell_type": "markdown",
   "id": "454ac5e5-b3a2-4363-813b-557979de2575",
   "metadata": {},
   "source": [
    "<b>The __str__()</b> method in Python classes is used to define a human-readable string representation of an object. When you call the str() function on an instance of a class or use the print() function, Python automatically calls the __str__() method to get the string representation of that object. This is particularly useful for providing a clear and informative output when printing objects.\n",
    "\n",
    "<b> Purpose of __str__() </b>\n",
    "Human-Readable Representation: It allows you to specify how an object should be represented as a string, making it easier to understand when printed.\n",
    "Debugging: It helps in debugging by providing meaningful output for objects, which can aid in understanding their current state."
   ]
  },
  {
   "cell_type": "code",
   "execution_count": 40,
   "id": "230a64bd-7035-420d-82d5-2610f95285f2",
   "metadata": {},
   "outputs": [
    {
     "name": "stdout",
     "output_type": "stream",
     "text": [
      "Person(Name: Alice, Age: 30)\n"
     ]
    }
   ],
   "source": [
    "class Person:\n",
    "    def __init__(self, name, age):\n",
    "        self.name = name\n",
    "        self.age = age\n",
    "\n",
    "    def __str__(self):\n",
    "        return f\"Person(Name: {self.name}, Age: {self.age})\"\n",
    "\n",
    "# Example usage\n",
    "person = Person(\"Alice\", 30)\n",
    "print(person)  # This will call person.__str__()\n"
   ]
  },
  {
   "cell_type": "markdown",
   "id": "e37cab69-4bac-4bea-9fe2-c5f005e20585",
   "metadata": {},
   "source": [
    "<b>[Q-63] How does the __len__() method work in Python? Provide an example."
   ]
  },
  {
   "cell_type": "markdown",
   "id": "46443f9d-1404-4ee8-9ad7-39267650e786",
   "metadata": {},
   "source": [
    "The __len__() method in Python is a special method that is used to return the length of an object. When you call the built-in len() function on an instance of a class, Python internally calls the __len__() method defined in that class. This method should return an integer representing the number of items in the object.\n",
    "\n",
    "<b>Purpose of __len__()</b>\n",
    "\n",
    "Custom Length Calculation: It allows you to define how the length of an object should be calculated, which can be useful for custom data structures.\n",
    "Integration with Built-in Functions: By implementing this method, your objects can seamlessly work with Python's built-in functions and idioms that rely on length."
   ]
  },
  {
   "cell_type": "code",
   "execution_count": 44,
   "id": "28914651-e2ea-48b2-9cbd-0a73321cd617",
   "metadata": {},
   "outputs": [
    {
     "name": "stdout",
     "output_type": "stream",
     "text": [
      "Length of my_list: 5\n"
     ]
    }
   ],
   "source": [
    "class CustomList:\n",
    "    def __init__(self, elements):\n",
    "        self.elements = elements\n",
    "\n",
    "    def __len__(self):\n",
    "        return len(self.elements)  # Return the length of the internal list\n",
    "\n",
    "# Example usage\n",
    "my_list = CustomList([1, 2, 3, 4, 5])\n",
    "print(\"Length of my_list:\", len(my_list))  # This will call my_list.__len__()\n"
   ]
  },
  {
   "cell_type": "markdown",
   "id": "b42f5d98-99ac-4e92-8d4c-34862b2dc2bf",
   "metadata": {},
   "source": [
    "<b> [Q-64] Explain the usage of the __add__() method in Python classes. Provide an example"
   ]
  },
  {
   "cell_type": "markdown",
   "id": "60a7a0ff-f42a-4340-a177-bd41abd5e4d5",
   "metadata": {},
   "source": [
    "The __add__() method in Python is a special method that allows you to define the behavior of the addition operator (+) for instances of a class. By implementing this method, you can customize how objects of your class are added together, enabling intuitive arithmetic operations.\n",
    "\n",
    "<b>Purpose of __add__()</b>\n",
    "Operator Overloading: It enables you to overload the + operator, allowing instances of your class to be added in a way that makes sense for your specific use case.\n",
    "Custom Behavior: You can define what it means to \"add\" two objects of your class, which could involve combining their attributes or performing calculations based on their state."
   ]
  },
  {
   "cell_type": "code",
   "execution_count": 48,
   "id": "854eb2e6-fb94-4fa7-91e7-4325efcabdb8",
   "metadata": {},
   "outputs": [
    {
     "name": "stdout",
     "output_type": "stream",
     "text": [
      "Result of addition: Vector(7, 10)\n"
     ]
    }
   ],
   "source": [
    "class Vector:\n",
    "    def __init__(self, x, y):\n",
    "        self.x = x\n",
    "        self.y = y\n",
    "\n",
    "    def __add__(self, other):\n",
    "        \"\"\"Defines addition for two Vector instances.\"\"\"\n",
    "        if isinstance(other, Vector):\n",
    "            return Vector(self.x + other.x, self.y + other.y)\n",
    "        return NotImplemented  # Return NotImplemented if other is not a Vector\n",
    "\n",
    "    def __repr__(self):\n",
    "        \"\"\"Provides a string representation for the Vector instance.\"\"\"\n",
    "        return f\"Vector({self.x}, {self.y})\"\n",
    "\n",
    "# Example usage\n",
    "v1 = Vector(2, 3)\n",
    "v2 = Vector(5, 7)\n",
    "result = v1 + v2  # This will call v1.__add__(v2)\n",
    "\n",
    "print(\"Result of addition:\", result)  # Output: Result of addition: Vector(7, 10)\n"
   ]
  },
  {
   "cell_type": "markdown",
   "id": "6bed6109-d25a-494d-93e8-d396e67be7bd",
   "metadata": {},
   "source": [
    "<b>[Q-65] What is the purpose of the __getitem__() method in Python? Provide an example."
   ]
  },
  {
   "cell_type": "markdown",
   "id": "9c50f4a0-3318-490a-9f82-22601b21e79e",
   "metadata": {},
   "source": [
    "The __getitem__() method in Python is a special method that allows an object to use the indexing syntax (i.e., square brackets) to access its elements. This method is commonly used in classes that need to behave like sequences or mappings, such as lists or dictionaries. By implementing __getitem__(), you can define how to retrieve an item from an instance of your class using an index or a key.\n",
    "\n",
    "<b>Purpose of __getitem__()</b>\n",
    "\n",
    "Indexing Support: It enables instances of your class to support indexing, allowing users to access elements using the familiar square bracket notation.\n",
    "Custom Behavior: You can define custom logic for retrieving items, which can be useful for implementing specialized data structures."
   ]
  },
  {
   "cell_type": "code",
   "execution_count": 54,
   "id": "a2dd5351-7c68-4cf1-b229-663006f39d1d",
   "metadata": {},
   "outputs": [
    {
     "name": "stdout",
     "output_type": "stream",
     "text": [
      "apple\n",
      "banana\n"
     ]
    }
   ],
   "source": [
    "class CustomCollection:\n",
    "    def __init__(self, items):\n",
    "        self.items = items\n",
    "\n",
    "    def __getitem__(self, index):\n",
    "        \"\"\"Returns the item at the specified index.\"\"\"\n",
    "        return self.items[index]\n",
    "\n",
    "# Example usage\n",
    "collection = CustomCollection(['apple', 'banana', 'cherry'])\n",
    "print(collection[0])  # Accesses the first item\n",
    "print(collection[1])  # Accesses the second item\n"
   ]
  },
  {
   "cell_type": "markdown",
   "id": "1c320e3f-3887-487a-95d6-810fb46211ac",
   "metadata": {},
   "source": [
    "<b>[Q-66] Explain the usage of the __iter__() and __next__() methods in Python. Provide an example using\n",
    "iterators"
   ]
  },
  {
   "cell_type": "markdown",
   "id": "287c2411-a3bc-42e6-a779-f197aa4acf93",
   "metadata": {},
   "source": [
    "The __iter__() and __next__() methods in Python are used to create iterators, which allow for traversing through a collection of items one at a time. These methods are essential for making an object iterable, enabling it to be used in loops and other contexts where iteration is required.\n",
    "Purpose of __iter__() and __next__()\n",
    "\n",
    "__iter__(): This method is called when an iterator is needed for an object. It should return the iterator object itself. This method is typically implemented to return the object that contains the __next__() method.\n",
    "\n",
    "__next__(): This method returns the next item from the iterator. When there are no more items to return, it should raise the StopIteration exception to signal that the iteration is complete."
   ]
  },
  {
   "cell_type": "code",
   "execution_count": 62,
   "id": "4b16487d-2ece-4d5a-8c65-c895c3ef19d0",
   "metadata": {},
   "outputs": [
    {
     "name": "stdout",
     "output_type": "stream",
     "text": [
      "0\n",
      "1\n",
      "2\n",
      "3\n",
      "4\n"
     ]
    }
   ],
   "source": [
    "class MyIterator:\n",
    "    def __init__(self, max):\n",
    "        self.max = max\n",
    "        self.current = 0\n",
    "\n",
    "    def __iter__(self):\n",
    "        return self  # The iterator object itself\n",
    "\n",
    "    def __next__(self):\n",
    "        if self.current < self.max:\n",
    "            result = self.current\n",
    "            self.current += 1\n",
    "            return result\n",
    "        else:\n",
    "            raise StopIteration  # Signal that iteration is complete\n",
    "\n",
    "# Example usage\n",
    "my_iterable = MyIterator(5)\n",
    "\n",
    "for number in my_iterable:\n",
    "    print(number)\n"
   ]
  },
  {
   "cell_type": "markdown",
   "id": "92df17cb-9428-4fa1-8d28-bffd7c58445a",
   "metadata": {},
   "source": [
    "<b>[Q-67] What is the purpose of a getter method in Python? Provide an example demonstrating the use of a getter\n",
    "method using property decorators"
   ]
  },
  {
   "cell_type": "markdown",
   "id": "19e5686a-47e9-469a-a499-866eb6d05455",
   "metadata": {},
   "source": [
    "The purpose of a getter method in Python is to provide a controlled way to access the value of a private attribute from outside the class. Getter methods help encapsulate the internal representation of an object, allowing for validation, modification, or additional processing when accessing an attribute.\n",
    "\n",
    "<b>Usage of Getter Methods with Property Decorators</b>\n",
    "\n",
    "In Python, you can use property decorators to create getter methods. This allows you to access attributes like regular properties while still maintaining the ability to add logic when getting their values.\n",
    "Example"
   ]
  },
  {
   "cell_type": "code",
   "execution_count": 67,
   "id": "bba716d8-d5dc-4636-8f87-1b54e0b94457",
   "metadata": {},
   "outputs": [
    {
     "name": "stdout",
     "output_type": "stream",
     "text": [
      "Name: Alice\n",
      "Age: 30\n"
     ]
    }
   ],
   "source": [
    "class Person:\n",
    "    def __init__(self, name, age):\n",
    "        self._name = name  # Private attribute\n",
    "        self._age = age    # Private attribute\n",
    "\n",
    "    @property\n",
    "    def name(self):\n",
    "        \"\"\"Getter for the name attribute.\"\"\"\n",
    "        return self._name\n",
    "\n",
    "    @property\n",
    "    def age(self):\n",
    "        \"\"\"Getter for the age attribute.\"\"\"\n",
    "        return self._age\n",
    "\n",
    "# Example usage\n",
    "person = Person(\"Alice\", 30)\n",
    "\n",
    "# Accessing attributes using getter methods\n",
    "print(\"Name:\", person.name)  # Calls the getter for name\n",
    "print(\"Age:\", person.age)    # Calls the getter for age\n"
   ]
  },
  {
   "cell_type": "markdown",
   "id": "14ff59b6-611b-4767-8bd0-4ffadb2cd6ca",
   "metadata": {},
   "source": [
    "<b>[Q-68] Explain the role of setter methods in Python. Demonstrate how to use a setter method to modify a class\n",
    "attribute using property decorators"
   ]
  },
  {
   "cell_type": "markdown",
   "id": "8db2e890-e027-4ade-9d23-a1db359a62d5",
   "metadata": {},
   "source": [
    "Setter methods in Python are used to define a controlled way of modifying the value of a private attribute. They allow you to enforce rules or validation when setting an attribute's value, ensuring that the internal state of an object remains valid and consistent.\n",
    "\n",
    "<b>Role of Setter Methods</b>\n",
    "\n",
    "<b>Encapsulation:</b> Setter methods help encapsulate the internal representation of an object, allowing you to control how attributes are modified.\n",
    "\n",
    "<b>Validation:</b> You can add validation logic in setter methods to ensure that only valid data is assigned to an attribute.\n",
    "\n",
    "<b>Controlled Access:</b> They provide a way to execute additional logic whenever an attribute is set, such as logging changes or triggering other updates."
   ]
  },
  {
   "cell_type": "code",
   "execution_count": 72,
   "id": "bbdbb4c8-85ee-4b92-90b7-b24246c2f3b7",
   "metadata": {},
   "outputs": [
    {
     "name": "stdout",
     "output_type": "stream",
     "text": [
      "Name: Alice\n",
      "Age: 30\n",
      "Updated Name: Bob\n",
      "Updated Age: 35\n",
      "Age must be a non-negative integer.\n"
     ]
    }
   ],
   "source": [
    "class Person:\n",
    "    def __init__(self, name, age):\n",
    "        self._name = name  # Private attribute\n",
    "        self._age = age    # Private attribute\n",
    "\n",
    "    @property\n",
    "    def name(self):\n",
    "        \"\"\"Getter for the name attribute.\"\"\"\n",
    "        return self._name\n",
    "\n",
    "    @name.setter\n",
    "    def name(self, value):\n",
    "        \"\"\"Setter for the name attribute.\"\"\"\n",
    "        if not isinstance(value, str):\n",
    "            raise ValueError(\"Name must be a string.\")\n",
    "        self._name = value\n",
    "\n",
    "    @property\n",
    "    def age(self):\n",
    "        \"\"\"Getter for the age attribute.\"\"\"\n",
    "        return self._age\n",
    "\n",
    "    @age.setter\n",
    "    def age(self, value):\n",
    "        \"\"\"Setter for the age attribute.\"\"\"\n",
    "        if not isinstance(value, int) or value < 0:\n",
    "            raise ValueError(\"Age must be a non-negative integer.\")\n",
    "        self._age = value\n",
    "\n",
    "# Example usage\n",
    "person = Person(\"Alice\", 30)\n",
    "\n",
    "# Accessing attributes using getter methods\n",
    "print(\"Name:\", person.name)  # Output: Name: Alice\n",
    "print(\"Age:\", person.age)    # Output: Age: 30\n",
    "\n",
    "# Modifying attributes using setter methods\n",
    "person.name = \"Bob\"          # Valid change\n",
    "person.age = 35              # Valid change\n",
    "\n",
    "print(\"Updated Name:\", person.name)  # Output: Updated Name: Bob\n",
    "print(\"Updated Age:\", person.age)    # Output: Updated Age: 35\n",
    "\n",
    "# Attempting to set invalid values\n",
    "try:\n",
    "    person.age = -5            # This will raise a ValueError\n",
    "except ValueError as e:\n",
    "    print(e)                   # Output: Age must be a non-negative integer.\n"
   ]
  },
  {
   "cell_type": "markdown",
   "id": "af503cc1-88d3-4ef1-b3e7-6bb5e4b2e48a",
   "metadata": {},
   "source": [
    "<b>[Q-69] What is the purpose of the @property decorator in Python? Provide an example illustrating its usage"
   ]
  },
  {
   "cell_type": "markdown",
   "id": "8394f0f7-dc2b-42ce-a125-8a598020dce7",
   "metadata": {},
   "source": [
    "The @property decorator in Python is used to define a method as a property, allowing you to access it like an attribute while still encapsulating the logic of getting (and optionally setting) its value. This decorator provides a way to manage the internal state of an object while maintaining a clean and intuitive interface for users of the class.\n",
    "\n",
    "<b>Purpose of the @property Decorator</b>\n",
    "\n",
    "<b>Encapsulation:</b> It allows you to hide the internal representation of an attribute while providing controlled access through getter and setter methods.\n",
    "\n",
    "<b>Readability:</b> Users can access properties like attributes, making the code cleaner and easier to read.\n",
    "\n",
    "<b>Validation:</b> You can add logic for validation or computation when getting or setting a property, ensuring that the internal state remains consistent."
   ]
  },
  {
   "cell_type": "code",
   "execution_count": 76,
   "id": "6f0b4cda-c332-4eb8-ae2a-abe97ed482cc",
   "metadata": {},
   "outputs": [
    {
     "name": "stdout",
     "output_type": "stream",
     "text": [
      "Radius: 5\n",
      "Area: 78.53975\n",
      "Updated Radius: 10\n",
      "Updated Area: 314.159\n",
      "Radius cannot be negative.\n"
     ]
    }
   ],
   "source": [
    "class Circle:\n",
    "    def __init__(self, radius):\n",
    "        self._radius = radius  # Private attribute\n",
    "\n",
    "    @property\n",
    "    def radius(self):\n",
    "        \"\"\"Getter for the radius attribute.\"\"\"\n",
    "        return self._radius\n",
    "\n",
    "    @radius.setter\n",
    "    def radius(self, value):\n",
    "        \"\"\"Setter for the radius attribute with validation.\"\"\"\n",
    "        if value < 0:\n",
    "            raise ValueError(\"Radius cannot be negative.\")\n",
    "        self._radius = value\n",
    "\n",
    "    @property\n",
    "    def area(self):\n",
    "        \"\"\"Calculate and return the area of the circle.\"\"\"\n",
    "        return 3.14159 * (self._radius ** 2)\n",
    "\n",
    "# Example usage\n",
    "circle = Circle(5)\n",
    "print(\"Radius:\", circle.radius)  # Accessing the radius using the getter\n",
    "print(\"Area:\", circle.area)       # Accessing the area using the property\n",
    "\n",
    "# Modifying the radius using the setter\n",
    "circle.radius = 10\n",
    "print(\"Updated Radius:\", circle.radius)\n",
    "print(\"Updated Area:\", circle.area)\n",
    "\n",
    "# Attempting to set an invalid radius\n",
    "try:\n",
    "    circle.radius = -3  # This will raise a ValueError\n",
    "except ValueError as e:\n",
    "    print(e)  # Output: Radius cannot be negative.\n"
   ]
  },
  {
   "cell_type": "markdown",
   "id": "3f9f5a8d-27a4-4f9a-a9e6-43363204b20f",
   "metadata": {},
   "source": [
    "<b> [Q-70] Explain the use of the @deleter decorator in Python property decorators. Provide a code example\n",
    "demonstrating its application"
   ]
  },
  {
   "cell_type": "markdown",
   "id": "2a3137c6-346b-4d8e-b3b1-7c07a3204e7b",
   "metadata": {},
   "source": [
    "The @deleter decorator in Python is used in conjunction with property decorators to define a method that allows for the deletion of a property from an object. This provides a way to control how an attribute can be removed, enabling encapsulation and validation when deleting an attribute.\n",
    "Purpose of the @deleter Decorator\n",
    "\n",
    "<b>Controlled Deletion:</b> It allows you to define custom behavior when a property is deleted, such as cleaning up resources or enforcing rules.\n",
    "\n",
    "<b>Encapsulation:</b> It helps maintain the integrity of the internal state of an object by controlling how properties are removed."
   ]
  },
  {
   "cell_type": "code",
   "execution_count": 80,
   "id": "63e846e7-cca2-4a2c-afae-5e3e9a6a1c46",
   "metadata": {},
   "outputs": [
    {
     "name": "stdout",
     "output_type": "stream",
     "text": [
      "Name: Alice\n",
      "Deleting name: Alice\n",
      "'Person' object has no attribute '_name'\n"
     ]
    }
   ],
   "source": [
    "class Person:\n",
    "    def __init__(self, name):\n",
    "        self._name = name  # Private attribute\n",
    "\n",
    "    @property\n",
    "    def name(self):\n",
    "        \"\"\"Getter for the name attribute.\"\"\"\n",
    "        return self._name\n",
    "\n",
    "    @name.setter\n",
    "    def name(self, value):\n",
    "        \"\"\"Setter for the name attribute.\"\"\"\n",
    "        if not isinstance(value, str):\n",
    "            raise ValueError(\"Name must be a string.\")\n",
    "        self._name = value\n",
    "\n",
    "    @name.deleter\n",
    "    def name(self):\n",
    "        \"\"\"Deleter for the name attribute.\"\"\"\n",
    "        print(f\"Deleting name: {self._name}\")\n",
    "        del self._name  # Delete the private attribute\n",
    "\n",
    "# Example usage\n",
    "person = Person(\"Alice\")\n",
    "print(\"Name:\", person.name)  # Accessing the name using the getter\n",
    "\n",
    "# Deleting the name using the deleter\n",
    "del person.name  # This will call the deleter\n",
    "\n",
    "# Attempting to access the deleted name\n",
    "try:\n",
    "    print(person.name)  # This will raise an AttributeError\n",
    "except AttributeError as e:\n",
    "    print(e)  # Output: 'Person' object has no attribute '_name'\n"
   ]
  },
  {
   "cell_type": "markdown",
   "id": "f28e7ac1-1088-4b8b-b858-f1cc131d890f",
   "metadata": {},
   "source": [
    "<b>[Q-71] How does encapsulation relate to property decorators in Python? Provide an example showcasing\n",
    "encapsulation using property decorators"
   ]
  },
  {
   "cell_type": "markdown",
   "id": "5e8cc4cd-55d9-418a-baec-bcc237437fd9",
   "metadata": {},
   "source": [
    "Encapsulation in Python refers to the bundling of data (attributes) and methods that operate on that data within a single unit, typically a class. It restricts direct access to some of an object's components, which is a means of preventing accidental modification of data. Property decorators (@property, @<property>.setter, and @<property>.deleter) facilitate encapsulation by allowing controlled access to private attributes while still providing a clean interface for users.\n",
    "\n",
    "<b>Relationship Between Encapsulation and Property Decorators</b>\n",
    "\n",
    "<b>Controlled Access:</b> Property decorators allow you to define getter and setter methods for private attributes, enabling controlled access to these attributes. This means you can enforce rules or validation when getting or setting values.\n",
    "\n",
    "<b>Hiding Implementation Details:</b> By using property decorators, you can hide the internal representation of an attribute while exposing a simple interface for interaction. This helps maintain the integrity of the object's state."
   ]
  },
  {
   "cell_type": "code",
   "execution_count": 84,
   "id": "2fa31170-4f42-4d39-9b3f-77cd50353f2b",
   "metadata": {},
   "outputs": [
    {
     "name": "stdout",
     "output_type": "stream",
     "text": [
      "Initial Balance: 1000\n",
      "Balance after deposit: 1500\n",
      "Balance after withdrawal: 1200\n",
      "Balance cannot be negative.\n"
     ]
    }
   ],
   "source": [
    "class BankAccount:\n",
    "    def __init__(self, account_number, balance=0):\n",
    "        self._account_number = account_number  # Private attribute\n",
    "        self._balance = balance  # Private attribute\n",
    "\n",
    "    @property\n",
    "    def balance(self):\n",
    "        \"\"\"Getter for the balance attribute.\"\"\"\n",
    "        return self._balance\n",
    "\n",
    "    @balance.setter\n",
    "    def balance(self, amount):\n",
    "        \"\"\"Setter for the balance attribute with validation.\"\"\"\n",
    "        if amount < 0:\n",
    "            raise ValueError(\"Balance cannot be negative.\")\n",
    "        self._balance = amount\n",
    "\n",
    "    def deposit(self, amount):\n",
    "        \"\"\"Method to deposit money into the account.\"\"\"\n",
    "        if amount <= 0:\n",
    "            raise ValueError(\"Deposit amount must be positive.\")\n",
    "        self.balance += amount  # Using the setter\n",
    "\n",
    "    def withdraw(self, amount):\n",
    "        \"\"\"Method to withdraw money from the account.\"\"\"\n",
    "        if amount <= 0:\n",
    "            raise ValueError(\"Withdrawal amount must be positive.\")\n",
    "        if amount > self.balance:\n",
    "            raise ValueError(\"Insufficient funds.\")\n",
    "        self.balance -= amount  # Using the setter\n",
    "\n",
    "# Example usage\n",
    "account = BankAccount(\"12345678\", 1000)\n",
    "\n",
    "print(\"Initial Balance:\", account.balance)  # Accessing balance using getter\n",
    "\n",
    "# Depositing money\n",
    "account.deposit(500)\n",
    "print(\"Balance after deposit:\", account.balance)\n",
    "\n",
    "# Withdrawing money\n",
    "account.withdraw(300)\n",
    "print(\"Balance after withdrawal:\", account.balance)\n",
    "\n",
    "# Attempting to set a negative balance\n",
    "try:\n",
    "    account.balance = -100  # This will raise a ValueError\n",
    "except ValueError as e:\n",
    "    print(e)  # Output: Balance cannot be negative.\n"
   ]
  },
  {
   "cell_type": "code",
   "execution_count": null,
   "id": "e6855c98-5d0a-4ba4-bcea-0e6d672812f0",
   "metadata": {},
   "outputs": [],
   "source": []
  }
 ],
 "metadata": {
  "kernelspec": {
   "display_name": "Python 3 (ipykernel)",
   "language": "python",
   "name": "python3"
  },
  "language_info": {
   "codemirror_mode": {
    "name": "ipython",
    "version": 3
   },
   "file_extension": ".py",
   "mimetype": "text/x-python",
   "name": "python",
   "nbconvert_exporter": "python",
   "pygments_lexer": "ipython3",
   "version": "3.12.7"
  }
 },
 "nbformat": 4,
 "nbformat_minor": 5
}
